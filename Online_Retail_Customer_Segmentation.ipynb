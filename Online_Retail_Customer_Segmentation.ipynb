{
 "cells": [
  {
   "attachments": {},
   "cell_type": "markdown",
   "metadata": {},
   "source": [
    "# Online Retail Customer Segmentation"
   ]
  },
  {
   "attachments": {},
   "cell_type": "markdown",
   "metadata": {},
   "source": [
    "# 1. Introduction"
   ]
  },
  {
   "attachments": {},
   "cell_type": "markdown",
   "metadata": {},
   "source": [
    "Welcome to my project, this project was made by Haidar Farras Latief and made in purpose on showcasing my abilities in clustering algorithm. The dataset that used in this project are from kaggle. I hope you can judge my ability from this project. Thank you for your time."
   ]
  },
  {
   "attachments": {},
   "cell_type": "markdown",
   "metadata": {},
   "source": [
    "## 1.1 Identity"
   ]
  },
  {
   "attachments": {},
   "cell_type": "markdown",
   "metadata": {},
   "source": [
    "Project Creator: Haidar Farras Latief\n",
    "\n",
    "Email: Haidar Farras Latief\n",
    "\n",
    "LinkedIn: www.linkedin.com/in/haidarfarraslatief"
   ]
  },
  {
   "attachments": {},
   "cell_type": "markdown",
   "metadata": {},
   "source": [
    "## 1.2 Problem statement"
   ]
  },
  {
   "attachments": {},
   "cell_type": "markdown",
   "metadata": {},
   "source": [
    "Improve management decision making data by providing customer behavior data from clustering algortihm based on dataset from start of January 2010 to the 1st of February 2010."
   ]
  },
  {
   "attachments": {},
   "cell_type": "markdown",
   "metadata": {},
   "source": [
    "## 1.3 Dataset description"
   ]
  },
  {
   "attachments": {},
   "cell_type": "markdown",
   "metadata": {},
   "source": [
    "### 1.3.1 Dataset identity"
   ]
  },
  {
   "attachments": {},
   "cell_type": "markdown",
   "metadata": {},
   "source": [
    "Where to get: https://www.kaggle.com/datasets/mathchi/online-retail-ii-data-set-from-ml-repository\n",
    "\n",
    "Platform: Kaggle\n",
    "\n",
    "Account that provide the dataset: MEHMET AKTURK ·"
   ]
  },
  {
   "attachments": {},
   "cell_type": "markdown",
   "metadata": {},
   "source": [
    "### 1.3.2 Dataset description in the website"
   ]
  },
  {
   "attachments": {},
   "cell_type": "markdown",
   "metadata": {},
   "source": [
    "```\n",
    "Context\n",
    "A real online retail transaction data set of two years.\n",
    "\n",
    "Content\n",
    "This Online Retail II data set contains all the transactions occurring for a UK-based and registered, non-store online retail between 01/12/2009 and 09/12/2011.The company mainly sells unique all-occasion gift-ware. Many customers of the company are wholesalers.\n",
    "\n",
    "Column Descriptors\n",
    "\n",
    "InvoiceNo: Invoice number. Nominal. A 6-digit integral number uniquely assigned to each transaction. If this code starts with the letter 'c', it indicates a cancellation.\n",
    "\n",
    "StockCode: Product (item) code. Nominal. A 5-digit integral number uniquely assigned to each distinct product.\n",
    "\n",
    "Description: Product (item) name. Nominal.\n",
    "\n",
    "Quantity: The quantities of each product (item) per transaction. Numeric.\n",
    "\n",
    "InvoiceDate: Invice date and time. Numeric. The day and time when a transaction was generated.\n",
    "\n",
    "UnitPrice: Unit price. Numeric. Product price per unit in sterling (Â£).\n",
    "\n",
    "CustomerID: Customer number. Nominal. A 5-digit integral number uniquely assigned to each customer.\n",
    "\n",
    "Country: Country name. Nominal. The name of the country where a customer resides.\n",
    "\n",
    "Acknowledgements\n",
    "Here you can find references about data set:\n",
    "https://archive.ics.uci.edu/ml/datasets/Online+Retail+II\n",
    "and\n",
    "\n",
    "Relevant Papers:\n",
    "\n",
    "Chen, D. Sain, S.L., and Guo, K. (2012), Data mining for the online retail industry: A case study of RFM model-based customer segmentation using data mining, Journal of Database Marketing and Customer Strategy Management, Vol. 19, No. 3, pp. 197-208. doi: [Web Link].\n",
    "Chen, D., Guo, K. and Ubakanma, G. (2015), Predicting customer profitability over time based on RFM time series, International Journal of Business Forecasting and Marketing Intelligence, Vol. 2, No. 1, pp.1-18. doi: [Web Link].\n",
    "Chen, D., Guo, K., and Li, Bo (2019), Predicting Customer Profitability Dynamically over Time: An Experimental Comparative Study, 24th Iberoamerican Congress on Pattern Recognition (CIARP 2019), Havana, Cuba, 28-31 Oct, 2019.\n",
    "Laha Ale, Ning Zhang, Huici Wu, Dajiang Chen, and Tao Han, Online Proactive Caching in Mobile Edge Computing Using Bidirectional Deep Recurrent Neural Network, IEEE Internet of Things Journal, Vol. 6, Issue 3, pp. 5520-5530, 2019.\n",
    "Rina Singh, Jeffrey A. Graves, Douglas A. Talbert, William Eberle, Prefix and Suffix Sequential Pattern Mining, Industrial Conference on Data Mining 2018: Advances in Data Mining. Applications and Theoretical Aspects, pp. 309-324. 2018.\n",
    "\n",
    "Inspiration\n",
    "This is Data Set Characteristics: Multivariate, Sequential, Time-Series, Text\n",
    "```"
   ]
  },
  {
   "attachments": {},
   "cell_type": "markdown",
   "metadata": {},
   "source": [
    "## 1.4 Benefit of this algorithm"
   ]
  },
  {
   "attachments": {},
   "cell_type": "markdown",
   "metadata": {},
   "source": [
    "There are several benefit from this algorithm:\n",
    "\n"
   ]
  },
  {
   "attachments": {},
   "cell_type": "markdown",
   "metadata": {},
   "source": [
    "### 1.4.1 Customer Segmentation"
   ]
  },
  {
   "attachments": {},
   "cell_type": "markdown",
   "metadata": {},
   "source": [
    "Clustering a group of customers of this online retail store to getting know better about what customers demography are. Marketers can setting up a strategy based on this customer group data for example like brand positioning, communication, transaction channel, payment method, advertising, etc. "
   ]
  },
  {
   "attachments": {},
   "cell_type": "markdown",
   "metadata": {},
   "source": [
    "### 1.4.2 Fraud Detection"
   ]
  },
  {
   "attachments": {},
   "cell_type": "markdown",
   "metadata": {},
   "source": [
    "Clustering can detect unusual activity of customers/users. Because the segmentation and pattern being observed, the fraud can be traced earlier. But, it also need proper consideration because it might be unusual activity that is not fraud. So, its still need clarification system in business process."
   ]
  },
  {
   "attachments": {},
   "cell_type": "markdown",
   "metadata": {},
   "source": [
    "### 1.4.3 Recommendations services"
   ]
  },
  {
   "attachments": {},
   "cell_type": "markdown",
   "metadata": {},
   "source": [
    "Clustering can improve or make recommendation services/features in application. It can also adding to the customer satisfactory or brand awareness. But, it needs developer to incorprating it into an application."
   ]
  },
  {
   "attachments": {},
   "cell_type": "markdown",
   "metadata": {},
   "source": [
    "## 1.5 Project summary"
   ]
  },
  {
   "attachments": {},
   "cell_type": "markdown",
   "metadata": {},
   "source": [
    "Customer Segmentation project by clustering algorithm with online retail dataset from kaggle. The analysis include data cleaning, Retention (customer retention), total price, clustering, customer segmentation analysis based on clustering, suggestion for better algorithm and management decisions. The result of this customer segmentation is there 4 segments that each of them have characteristic. Some are high in retention (repeated transactions) that can benefit management to strategize the company apporach into high retention customers segments. There are also high turnover customer that I suggest to research more for decreasing customer turnover."
   ]
  },
  {
   "attachments": {},
   "cell_type": "markdown",
   "metadata": {},
   "source": [
    "## 1.6 Project notes"
   ]
  },
  {
   "attachments": {},
   "cell_type": "markdown",
   "metadata": {},
   "source": [
    "### 1.6.1 To see original clustering output"
   ]
  },
  {
   "attachments": {},
   "cell_type": "markdown",
   "metadata": {},
   "source": [
    "If you want to read the clustering result, It is not recomended to run this code because it will restart the clustering, mess up the cluster number, and the analysis provided."
   ]
  },
  {
   "attachments": {},
   "cell_type": "markdown",
   "metadata": {},
   "source": [
    "### 1.6.2 Loading time"
   ]
  },
  {
   "attachments": {},
   "cell_type": "markdown",
   "metadata": {},
   "source": [
    "There are significant long loading time in clustering section (section 6), it takes nearly half an hour."
   ]
  },
  {
   "attachments": {},
   "cell_type": "markdown",
   "metadata": {},
   "source": [
    "### 1.6.3 Repetition = Retention"
   ]
  },
  {
   "attachments": {},
   "cell_type": "markdown",
   "metadata": {},
   "source": [
    "There a mistake in a word I choose, such as \"Repetition\" rather than \"Retention\". But, I don't restart the output (because it will mess the clustering). If ouy encounter the word \"Repetition\" and \"Retention\" it has the same meaning: Repeat transactions in another day. (transaction in the same day doesn't count as retention)"
   ]
  },
  {
   "attachments": {},
   "cell_type": "markdown",
   "metadata": {},
   "source": [
    "<center>End of section 1</center>\n",
    "<hr>\n",
    "<hr>"
   ]
  },
  {
   "attachments": {},
   "cell_type": "markdown",
   "metadata": {},
   "source": [
    "# 2. Project Description"
   ]
  },
  {
   "attachments": {},
   "cell_type": "markdown",
   "metadata": {},
   "source": [
    "This project have 8 sections:\n",
    "\n",
    "1. The first is \"Identity\" it shows the creator of this prohect identity and the dataset description\n",
    "2. The second is \"Project Description\" describing about this file sections, and what are each functions\n",
    "3. \"Data Loading\" are the start to load the libraries and the dataset that are necessary also choosing the right datetime for analysis (I cut it for a faster loading time)\n",
    "4. \"Exploratory Data Analysis: Before clustering\" is to observe the data for any missing values, irrelevant data, outlier data, or any key findings that are beneficial to analysis\n",
    "5. \"Data pre-processing\" is to transform the data to made a better clustering algorithm such as data cleaning, Handling outlier, adding any necessary column, and scaling & encoding\n",
    "6.  \"Clustering\" is to find the right cluster quantity and run the clustering algorithm\n",
    "7. \"Exploratory Data Analysis: After clustering\" is to observe a key findings from clustering that has been made by clustering algorithm and collecting the key findings into analysis that include customers segmentation characteristic and suggestion for better algorithm and management decisions.\n",
    "8. \"Conclusion\" is to summarize what this project has done "
   ]
  },
  {
   "attachments": {},
   "cell_type": "markdown",
   "metadata": {},
   "source": [
    "<center>End of section 2</center>\n",
    "<hr>\n",
    "<hr>"
   ]
  },
  {
   "attachments": {},
   "cell_type": "markdown",
   "metadata": {},
   "source": [
    "# 3. Data Loading"
   ]
  },
  {
   "attachments": {},
   "cell_type": "markdown",
   "metadata": {},
   "source": [
    "## 3.1 Import necessary libraries"
   ]
  },
  {
   "cell_type": "code",
   "execution_count": 1,
   "metadata": {},
   "outputs": [],
   "source": [
    "# 1. Basic library\n",
    "# 1.1 Import pandas for data manipulation and analysis\n",
    "import pandas as pd\n",
    "# 1.2 Import numpy for numerical cumputing\n",
    "import numpy as np\n",
    "# 1.3 Import matplotlib.pyplot for data visualization\n",
    "import matplotlib.pyplot as plt\n",
    "# 1.4 Import seaborn for supporting matplotlib.pylot\n",
    "import seaborn as sns\n",
    "\n",
    "# 2.Exploratory Data Analysis: Before clustering\n",
    "# 2.1 Import Counter for counting hashable objects\n",
    "from collections import Counter\n",
    "\n",
    "# 3. Data Pre-processing and clustering\n",
    "# 3.1 Import StandardScaler for scaling numerical data\n",
    "from sklearn.preprocessing import StandardScaler\n",
    "# 3.2 Import LabelEncoder for encoding categorical data\n",
    "from sklearn.preprocessing import LabelEncoder\n",
    "# 3.3 Import stats for scientific computing\n",
    "from scipy import stats\n",
    "\n",
    "# 4. Model clustering and evaluation\n",
    "# 4.3 Import tqdm for adding the progress bar\n",
    "from tqdm import tqdm\n",
    "# 4.4 Import KPrototypes for performing clustering using K-prototypes algorithm\n",
    "from kmodes.kprototypes import KPrototypes\n",
    "# 4.5 Import silhouette_score for making observations with silhouette assessment\n",
    "from sklearn.metrics import silhouette_score\n",
    "\n",
    "# 5. Exploratory Data Analysis: After clustering\n",
    "# 5.1 Intall nltk (Natural Language Toolkit)\n",
    "!pip install nltk # Comment this line if already installed\n",
    "# 5.2 Import nltk for accessing natural language processing library\n",
    "import nltk\n",
    "# 5.3 Import word_tokenize for gaining access to a specific tokenization method that splits a given text into list of tokens\n",
    "from nltk.tokenize import word_tokenize\n",
    "# 5.4 Import stopwords for providing a predefined set of stopwords for various languages\n",
    "from nltk.corpus import stopwords\n",
    "# 5.5 Import ngrams for generating n-grams from a sequence of items\n",
    "from nltk import ngrams\n",
    "# 5.6 Download 'punkt' for using the pre-trained tokenization models provided by NLTK\n",
    "nltk.download('punkt')\n",
    "# 5.7 Download 'stopwords' for using a collection of stopwords for different languages that can be used for test analysis\n",
    "nltk.download('stopwords')"
   ]
  },
  {
   "attachments": {},
   "cell_type": "markdown",
   "metadata": {},
   "source": [
    "## 3.2 Load the dataset"
   ]
  },
  {
   "cell_type": "code",
   "execution_count": 2,
   "metadata": {},
   "outputs": [],
   "source": [
    "df = pd.read_excel('online_retail_II.xlsx')"
   ]
  },
  {
   "cell_type": "code",
   "execution_count": 3,
   "metadata": {},
   "outputs": [
    {
     "data": {
      "text/html": [
       "<div>\n",
       "<style scoped>\n",
       "    .dataframe tbody tr th:only-of-type {\n",
       "        vertical-align: middle;\n",
       "    }\n",
       "\n",
       "    .dataframe tbody tr th {\n",
       "        vertical-align: top;\n",
       "    }\n",
       "\n",
       "    .dataframe thead th {\n",
       "        text-align: right;\n",
       "    }\n",
       "</style>\n",
       "<table border=\"1\" class=\"dataframe\">\n",
       "  <thead>\n",
       "    <tr style=\"text-align: right;\">\n",
       "      <th></th>\n",
       "      <th>Invoice</th>\n",
       "      <th>StockCode</th>\n",
       "      <th>Description</th>\n",
       "      <th>Quantity</th>\n",
       "      <th>InvoiceDate</th>\n",
       "      <th>Price</th>\n",
       "      <th>Customer ID</th>\n",
       "      <th>Country</th>\n",
       "    </tr>\n",
       "  </thead>\n",
       "  <tbody>\n",
       "    <tr>\n",
       "      <th>0</th>\n",
       "      <td>489434</td>\n",
       "      <td>85048</td>\n",
       "      <td>15CM CHRISTMAS GLASS BALL 20 LIGHTS</td>\n",
       "      <td>12</td>\n",
       "      <td>2009-12-01 07:45:00</td>\n",
       "      <td>6.95</td>\n",
       "      <td>13085.0</td>\n",
       "      <td>United Kingdom</td>\n",
       "    </tr>\n",
       "    <tr>\n",
       "      <th>1</th>\n",
       "      <td>489434</td>\n",
       "      <td>79323P</td>\n",
       "      <td>PINK CHERRY LIGHTS</td>\n",
       "      <td>12</td>\n",
       "      <td>2009-12-01 07:45:00</td>\n",
       "      <td>6.75</td>\n",
       "      <td>13085.0</td>\n",
       "      <td>United Kingdom</td>\n",
       "    </tr>\n",
       "    <tr>\n",
       "      <th>2</th>\n",
       "      <td>489434</td>\n",
       "      <td>79323W</td>\n",
       "      <td>WHITE CHERRY LIGHTS</td>\n",
       "      <td>12</td>\n",
       "      <td>2009-12-01 07:45:00</td>\n",
       "      <td>6.75</td>\n",
       "      <td>13085.0</td>\n",
       "      <td>United Kingdom</td>\n",
       "    </tr>\n",
       "    <tr>\n",
       "      <th>3</th>\n",
       "      <td>489434</td>\n",
       "      <td>22041</td>\n",
       "      <td>RECORD FRAME 7\" SINGLE SIZE</td>\n",
       "      <td>48</td>\n",
       "      <td>2009-12-01 07:45:00</td>\n",
       "      <td>2.10</td>\n",
       "      <td>13085.0</td>\n",
       "      <td>United Kingdom</td>\n",
       "    </tr>\n",
       "    <tr>\n",
       "      <th>4</th>\n",
       "      <td>489434</td>\n",
       "      <td>21232</td>\n",
       "      <td>STRAWBERRY CERAMIC TRINKET BOX</td>\n",
       "      <td>24</td>\n",
       "      <td>2009-12-01 07:45:00</td>\n",
       "      <td>1.25</td>\n",
       "      <td>13085.0</td>\n",
       "      <td>United Kingdom</td>\n",
       "    </tr>\n",
       "  </tbody>\n",
       "</table>\n",
       "</div>"
      ],
      "text/plain": [
       "  Invoice StockCode                          Description  Quantity  \\\n",
       "0  489434     85048  15CM CHRISTMAS GLASS BALL 20 LIGHTS        12   \n",
       "1  489434    79323P                   PINK CHERRY LIGHTS        12   \n",
       "2  489434    79323W                  WHITE CHERRY LIGHTS        12   \n",
       "3  489434     22041         RECORD FRAME 7\" SINGLE SIZE         48   \n",
       "4  489434     21232       STRAWBERRY CERAMIC TRINKET BOX        24   \n",
       "\n",
       "          InvoiceDate  Price  Customer ID         Country  \n",
       "0 2009-12-01 07:45:00   6.95      13085.0  United Kingdom  \n",
       "1 2009-12-01 07:45:00   6.75      13085.0  United Kingdom  \n",
       "2 2009-12-01 07:45:00   6.75      13085.0  United Kingdom  \n",
       "3 2009-12-01 07:45:00   2.10      13085.0  United Kingdom  \n",
       "4 2009-12-01 07:45:00   1.25      13085.0  United Kingdom  "
      ]
     },
     "execution_count": 3,
     "metadata": {},
     "output_type": "execute_result"
    }
   ],
   "source": [
    "df.head(5)"
   ]
  },
  {
   "attachments": {},
   "cell_type": "markdown",
   "metadata": {},
   "source": [
    "I add TotalPrice to count a price times quantity."
   ]
  },
  {
   "cell_type": "code",
   "execution_count": 113,
   "metadata": {},
   "outputs": [],
   "source": [
    "df['TotalPrice'] = df['Quantity'] * df['Price']"
   ]
  },
  {
   "cell_type": "code",
   "execution_count": 114,
   "metadata": {},
   "outputs": [
    {
     "name": "stdout",
     "output_type": "stream",
     "text": [
      "<class 'pandas.core.frame.DataFrame'>\n",
      "RangeIndex: 525461 entries, 0 to 525460\n",
      "Data columns (total 9 columns):\n",
      " #   Column       Non-Null Count   Dtype         \n",
      "---  ------       --------------   -----         \n",
      " 0   Invoice      525461 non-null  object        \n",
      " 1   StockCode    525461 non-null  object        \n",
      " 2   Description  522533 non-null  object        \n",
      " 3   Quantity     525461 non-null  int64         \n",
      " 4   InvoiceDate  525461 non-null  datetime64[ns]\n",
      " 5   Price        525461 non-null  float64       \n",
      " 6   Customer ID  417534 non-null  float64       \n",
      " 7   Country      525461 non-null  object        \n",
      " 8   TotalPrice   525461 non-null  float64       \n",
      "dtypes: datetime64[ns](1), float64(3), int64(1), object(4)\n",
      "memory usage: 36.1+ MB\n"
     ]
    }
   ],
   "source": [
    "df.info()"
   ]
  },
  {
   "cell_type": "code",
   "execution_count": 115,
   "metadata": {},
   "outputs": [
    {
     "data": {
      "text/html": [
       "<div>\n",
       "<style scoped>\n",
       "    .dataframe tbody tr th:only-of-type {\n",
       "        vertical-align: middle;\n",
       "    }\n",
       "\n",
       "    .dataframe tbody tr th {\n",
       "        vertical-align: top;\n",
       "    }\n",
       "\n",
       "    .dataframe thead th {\n",
       "        text-align: right;\n",
       "    }\n",
       "</style>\n",
       "<table border=\"1\" class=\"dataframe\">\n",
       "  <thead>\n",
       "    <tr style=\"text-align: right;\">\n",
       "      <th></th>\n",
       "      <th>Invoice</th>\n",
       "      <th>StockCode</th>\n",
       "      <th>Description</th>\n",
       "      <th>Quantity</th>\n",
       "      <th>InvoiceDate</th>\n",
       "      <th>Price</th>\n",
       "      <th>Customer ID</th>\n",
       "      <th>Country</th>\n",
       "      <th>TotalPrice</th>\n",
       "    </tr>\n",
       "  </thead>\n",
       "  <tbody>\n",
       "    <tr>\n",
       "      <th>0</th>\n",
       "      <td>489434</td>\n",
       "      <td>85048</td>\n",
       "      <td>15CM CHRISTMAS GLASS BALL 20 LIGHTS</td>\n",
       "      <td>12</td>\n",
       "      <td>2009-12-01 07:45:00</td>\n",
       "      <td>6.95</td>\n",
       "      <td>13085.0</td>\n",
       "      <td>United Kingdom</td>\n",
       "      <td>83.4</td>\n",
       "    </tr>\n",
       "    <tr>\n",
       "      <th>1</th>\n",
       "      <td>489434</td>\n",
       "      <td>79323P</td>\n",
       "      <td>PINK CHERRY LIGHTS</td>\n",
       "      <td>12</td>\n",
       "      <td>2009-12-01 07:45:00</td>\n",
       "      <td>6.75</td>\n",
       "      <td>13085.0</td>\n",
       "      <td>United Kingdom</td>\n",
       "      <td>81.0</td>\n",
       "    </tr>\n",
       "    <tr>\n",
       "      <th>2</th>\n",
       "      <td>489434</td>\n",
       "      <td>79323W</td>\n",
       "      <td>WHITE CHERRY LIGHTS</td>\n",
       "      <td>12</td>\n",
       "      <td>2009-12-01 07:45:00</td>\n",
       "      <td>6.75</td>\n",
       "      <td>13085.0</td>\n",
       "      <td>United Kingdom</td>\n",
       "      <td>81.0</td>\n",
       "    </tr>\n",
       "    <tr>\n",
       "      <th>3</th>\n",
       "      <td>489434</td>\n",
       "      <td>22041</td>\n",
       "      <td>RECORD FRAME 7\" SINGLE SIZE</td>\n",
       "      <td>48</td>\n",
       "      <td>2009-12-01 07:45:00</td>\n",
       "      <td>2.10</td>\n",
       "      <td>13085.0</td>\n",
       "      <td>United Kingdom</td>\n",
       "      <td>100.8</td>\n",
       "    </tr>\n",
       "    <tr>\n",
       "      <th>4</th>\n",
       "      <td>489434</td>\n",
       "      <td>21232</td>\n",
       "      <td>STRAWBERRY CERAMIC TRINKET BOX</td>\n",
       "      <td>24</td>\n",
       "      <td>2009-12-01 07:45:00</td>\n",
       "      <td>1.25</td>\n",
       "      <td>13085.0</td>\n",
       "      <td>United Kingdom</td>\n",
       "      <td>30.0</td>\n",
       "    </tr>\n",
       "  </tbody>\n",
       "</table>\n",
       "</div>"
      ],
      "text/plain": [
       "  Invoice StockCode                          Description  Quantity  \\\n",
       "0  489434     85048  15CM CHRISTMAS GLASS BALL 20 LIGHTS        12   \n",
       "1  489434    79323P                   PINK CHERRY LIGHTS        12   \n",
       "2  489434    79323W                  WHITE CHERRY LIGHTS        12   \n",
       "3  489434     22041         RECORD FRAME 7\" SINGLE SIZE         48   \n",
       "4  489434     21232       STRAWBERRY CERAMIC TRINKET BOX        24   \n",
       "\n",
       "          InvoiceDate  Price  Customer ID         Country  TotalPrice  \n",
       "0 2009-12-01 07:45:00   6.95      13085.0  United Kingdom        83.4  \n",
       "1 2009-12-01 07:45:00   6.75      13085.0  United Kingdom        81.0  \n",
       "2 2009-12-01 07:45:00   6.75      13085.0  United Kingdom        81.0  \n",
       "3 2009-12-01 07:45:00   2.10      13085.0  United Kingdom       100.8  \n",
       "4 2009-12-01 07:45:00   1.25      13085.0  United Kingdom        30.0  "
      ]
     },
     "execution_count": 115,
     "metadata": {},
     "output_type": "execute_result"
    }
   ],
   "source": [
    "df.head(5)"
   ]
  },
  {
   "attachments": {},
   "cell_type": "markdown",
   "metadata": {},
   "source": [
    "## 3.3 Deciding datetime"
   ]
  },
  {
   "attachments": {},
   "cell_type": "markdown",
   "metadata": {},
   "source": [
    "After I have tried 2 times to train with this dataset, I realized that it takes a long time to train. So I cut the dataset that can be train in much shorter time. "
   ]
  },
  {
   "cell_type": "code",
   "execution_count": 116,
   "metadata": {},
   "outputs": [],
   "source": [
    "# Filter the DataFrame based on the date range\n",
    "start_date = pd.to_datetime('2010-01-01')\n",
    "end_date = pd.to_datetime('2010-02-01')\n",
    "df_fltrd = df[(df['InvoiceDate'] >= start_date) & (df['InvoiceDate'] <= end_date)]"
   ]
  },
  {
   "cell_type": "code",
   "execution_count": 117,
   "metadata": {},
   "outputs": [
    {
     "name": "stdout",
     "output_type": "stream",
     "text": [
      "<class 'pandas.core.frame.DataFrame'>\n",
      "Int64Index: 31555 entries, 45228 to 76782\n",
      "Data columns (total 9 columns):\n",
      " #   Column       Non-Null Count  Dtype         \n",
      "---  ------       --------------  -----         \n",
      " 0   Invoice      31555 non-null  object        \n",
      " 1   StockCode    31555 non-null  object        \n",
      " 2   Description  31333 non-null  object        \n",
      " 3   Quantity     31555 non-null  int64         \n",
      " 4   InvoiceDate  31555 non-null  datetime64[ns]\n",
      " 5   Price        31555 non-null  float64       \n",
      " 6   Customer ID  22439 non-null  float64       \n",
      " 7   Country      31555 non-null  object        \n",
      " 8   TotalPrice   31555 non-null  float64       \n",
      "dtypes: datetime64[ns](1), float64(3), int64(1), object(4)\n",
      "memory usage: 2.4+ MB\n"
     ]
    }
   ],
   "source": [
    "df_fltrd.info()"
   ]
  },
  {
   "attachments": {},
   "cell_type": "markdown",
   "metadata": {},
   "source": [
    "<center>End of section 3</center>\n",
    "<hr>\n",
    "<hr>"
   ]
  },
  {
   "attachments": {},
   "cell_type": "markdown",
   "metadata": {},
   "source": [
    "# 4. Exploratory Data Analysis: Before clustering"
   ]
  },
  {
   "attachments": {},
   "cell_type": "markdown",
   "metadata": {},
   "source": [
    "## 4.1 Feature observation"
   ]
  },
  {
   "attachments": {},
   "cell_type": "markdown",
   "metadata": {},
   "source": [
    "### 4.1.1 Unique value of \"Country\" feature"
   ]
  },
  {
   "cell_type": "code",
   "execution_count": 118,
   "metadata": {},
   "outputs": [
    {
     "data": {
      "text/plain": [
       "array(['United Kingdom', 'Germany', 'EIRE', 'Sweden', 'France', 'Belgium',\n",
       "       'Spain', 'USA', 'Denmark', 'Netherlands', 'Greece', 'Japan',\n",
       "       'Finland', 'Channel Islands', 'Unspecified', 'Cyprus', 'Portugal',\n",
       "       'Italy', 'Nigeria'], dtype=object)"
      ]
     },
     "execution_count": 118,
     "metadata": {},
     "output_type": "execute_result"
    }
   ],
   "source": [
    "df_fltrd[\"Country\"].unique()"
   ]
  },
  {
   "attachments": {},
   "cell_type": "markdown",
   "metadata": {},
   "source": [
    "This code above, tell us how many country where customer transacting to this online store."
   ]
  },
  {
   "attachments": {},
   "cell_type": "markdown",
   "metadata": {},
   "source": [
    "### 4.1.2 Country value counts"
   ]
  },
  {
   "cell_type": "code",
   "execution_count": 119,
   "metadata": {},
   "outputs": [],
   "source": [
    "counter = Counter(df_fltrd['Country'])\n",
    "\n",
    "unique_counts = counter.most_common()"
   ]
  },
  {
   "cell_type": "code",
   "execution_count": 120,
   "metadata": {},
   "outputs": [
    {
     "data": {
      "image/png": "[encoded data removed]",
      "text/plain": [
       "<Figure size 576x576 with 2 Axes>"
      ]
     },
     "metadata": {
      "needs_background": "light"
     },
     "output_type": "display_data"
    }
   ],
   "source": [
    "num_subplots = (len(unique_counts) + 9) // 10  # Calculate the number of subplots required\n",
    "fig, axs = plt.subplots(num_subplots, 1, figsize=(8, 4 * num_subplots))  # Create subplots\n",
    "\n",
    "for i, ax in enumerate(axs):  # Iterate over subplots\n",
    "    start_index = i * 10\n",
    "    end_index = start_index + 10\n",
    "    subset_unique_counts = unique_counts[start_index:end_index]\n",
    "\n",
    "    values, counts = zip(*subset_unique_counts)\n",
    "\n",
    "    ax.bar(values, counts)\n",
    "    ax.set_xlabel('Values')\n",
    "    ax.set_ylabel('Counts')\n",
    "    ax.set_title(f'Unique Values with Counts (Subset {i+1})')\n",
    "\n",
    "    for j, count in enumerate(counts):\n",
    "        ax.text(j, count, str(count), ha='center', va='bottom')\n",
    "\n",
    "plt.tight_layout()  # Adjust spacing between subplots\n",
    "plt.show()"
   ]
  },
  {
   "attachments": {},
   "cell_type": "markdown",
   "metadata": {},
   "source": [
    "Continuing from 4.1.1, United Kingdom held the most transaction. But, the other country are large enough but not that significant compared to United Kingdom customers."
   ]
  },
  {
   "attachments": {},
   "cell_type": "markdown",
   "metadata": {},
   "source": [
    "### 4.1.3 Customer retention"
   ]
  },
  {
   "cell_type": "code",
   "execution_count": 121,
   "metadata": {},
   "outputs": [
    {
     "name": "stdout",
     "output_type": "stream",
     "text": [
      "                             Description  Count\n",
      "52    WHITE HANGING HEART T-LIGHT HOLDER    280\n",
      "370                                  NaN    222\n",
      "76      RED HANGING HEART T-LIGHT HOLDER    135\n",
      "158       72 SWEETHEART FAIRY CAKE CASES    132\n",
      "56        RED WOOLLY HOTTIE WHITE HEART.    127\n",
      "...                                  ...    ...\n",
      "1887         RED BOUDICCA LARGE BRACELET      2\n",
      "1884         GLASS CHALICE GREEN  LARGE       2\n",
      "1882     PINK WHITE SPOTS GARDEN PARASOL      2\n",
      "1000           MAGIC TREE -PAPER FLOWERS      2\n",
      "2236        BOX/12 CHICK & EGG IN BASKET      2\n",
      "\n",
      "[2237 rows x 2 columns]\n"
     ]
    }
   ],
   "source": [
    "from collections import Counter\n",
    "import pandas as pd\n",
    "\n",
    "counter = Counter(df_fltrd['Description'])\n",
    "\n",
    "# Filter out values with counts less than 2\n",
    "counts = {value: count for value, count in counter.items() if count > 1}\n",
    "\n",
    "# Create a DataFrame from the counts\n",
    "data = {'Description': list(counts.keys()), 'Count': list(counts.values())}\n",
    "df_counts_desc_count = pd.DataFrame.from_dict(data)\n",
    "\n",
    "# Sort the DataFrame by the \"Count\" column in descending order\n",
    "df_counts_desc_count = df_counts_desc_count.sort_values('Count', ascending=False)\n",
    "\n",
    "print(df_counts_desc_count)"
   ]
  },
  {
   "attachments": {},
   "cell_type": "markdown",
   "metadata": {},
   "source": [
    "Most of the product bought is WHITE HANGING HEART T-LIGHT HOLDER the second is NaN (I don't count it as second, because it is not expected value), RED HANGING HEART T-LIGHT HOLDER, and 72 SWEETHEART FAIRY CAKE CASE."
   ]
  },
  {
   "attachments": {},
   "cell_type": "markdown",
   "metadata": {},
   "source": [
    "### 4.1.4 Value only one"
   ]
  },
  {
   "cell_type": "code",
   "execution_count": 122,
   "metadata": {},
   "outputs": [],
   "source": [
    "# Task 1: Bar graph for each unique value with counts\n",
    "counts = df_fltrd['Description'].value_counts()\n",
    "counts = counts[counts > 1]  # Filter out values with counts less than 2\n",
    "\n",
    "unique_values = counts.index.tolist()"
   ]
  },
  {
   "attachments": {},
   "cell_type": "markdown",
   "metadata": {},
   "source": [
    "## 4.2 Irrelevant Data"
   ]
  },
  {
   "attachments": {},
   "cell_type": "markdown",
   "metadata": {},
   "source": [
    "### 4.2.1 Missing value"
   ]
  },
  {
   "cell_type": "code",
   "execution_count": 123,
   "metadata": {},
   "outputs": [
    {
     "data": {
      "text/plain": [
       "Customer ID    9116\n",
       "Description     222\n",
       "Invoice           0\n",
       "StockCode         0\n",
       "Quantity          0\n",
       "InvoiceDate       0\n",
       "Price             0\n",
       "Country           0\n",
       "TotalPrice        0\n",
       "dtype: int64"
      ]
     },
     "execution_count": 123,
     "metadata": {},
     "output_type": "execute_result"
    }
   ],
   "source": [
    "df_fltrd.isna().sum().sort_values(ascending=False)"
   ]
  },
  {
   "cell_type": "code",
   "execution_count": 124,
   "metadata": {},
   "outputs": [
    {
     "name": "stdout",
     "output_type": "stream",
     "text": [
      "<class 'pandas.core.frame.DataFrame'>\n",
      "Int64Index: 31555 entries, 45228 to 76782\n",
      "Data columns (total 9 columns):\n",
      " #   Column       Non-Null Count  Dtype         \n",
      "---  ------       --------------  -----         \n",
      " 0   Invoice      31555 non-null  object        \n",
      " 1   StockCode    31555 non-null  object        \n",
      " 2   Description  31333 non-null  object        \n",
      " 3   Quantity     31555 non-null  int64         \n",
      " 4   InvoiceDate  31555 non-null  datetime64[ns]\n",
      " 5   Price        31555 non-null  float64       \n",
      " 6   Customer ID  22439 non-null  float64       \n",
      " 7   Country      31555 non-null  object        \n",
      " 8   TotalPrice   31555 non-null  float64       \n",
      "dtypes: datetime64[ns](1), float64(3), int64(1), object(4)\n",
      "memory usage: 2.4+ MB\n"
     ]
    }
   ],
   "source": [
    "df_fltrd.info()"
   ]
  },
  {
   "attachments": {},
   "cell_type": "markdown",
   "metadata": {},
   "source": [
    "As we can see here, There are many missing values that must be investigate."
   ]
  },
  {
   "attachments": {},
   "cell_type": "markdown",
   "metadata": {},
   "source": [
    "### 4.2.1 Dummy Data"
   ]
  },
  {
   "attachments": {},
   "cell_type": "markdown",
   "metadata": {},
   "source": [
    "There are also dummy data that made to test (probably companies system). It must be remove, or it will create bias."
   ]
  },
  {
   "cell_type": "code",
   "execution_count": 125,
   "metadata": {},
   "outputs": [],
   "source": [
    "test_product_rows = df_fltrd[df_fltrd['Description'] == 'This is a test product.']"
   ]
  },
  {
   "cell_type": "code",
   "execution_count": 126,
   "metadata": {},
   "outputs": [
    {
     "name": "stdout",
     "output_type": "stream",
     "text": [
      "<class 'pandas.core.frame.DataFrame'>\n",
      "Int64Index: 4 entries, 45228 to 66084\n",
      "Data columns (total 9 columns):\n",
      " #   Column       Non-Null Count  Dtype         \n",
      "---  ------       --------------  -----         \n",
      " 0   Invoice      4 non-null      object        \n",
      " 1   StockCode    4 non-null      object        \n",
      " 2   Description  4 non-null      object        \n",
      " 3   Quantity     4 non-null      int64         \n",
      " 4   InvoiceDate  4 non-null      datetime64[ns]\n",
      " 5   Price        4 non-null      float64       \n",
      " 6   Customer ID  4 non-null      float64       \n",
      " 7   Country      4 non-null      object        \n",
      " 8   TotalPrice   4 non-null      float64       \n",
      "dtypes: datetime64[ns](1), float64(3), int64(1), object(4)\n",
      "memory usage: 320.0+ bytes\n"
     ]
    }
   ],
   "source": [
    "test_product_rows.info()"
   ]
  },
  {
   "cell_type": "code",
   "execution_count": 127,
   "metadata": {},
   "outputs": [
    {
     "data": {
      "text/html": [
       "<div>\n",
       "<style scoped>\n",
       "    .dataframe tbody tr th:only-of-type {\n",
       "        vertical-align: middle;\n",
       "    }\n",
       "\n",
       "    .dataframe tbody tr th {\n",
       "        vertical-align: top;\n",
       "    }\n",
       "\n",
       "    .dataframe thead th {\n",
       "        text-align: right;\n",
       "    }\n",
       "</style>\n",
       "<table border=\"1\" class=\"dataframe\">\n",
       "  <thead>\n",
       "    <tr style=\"text-align: right;\">\n",
       "      <th></th>\n",
       "      <th>Invoice</th>\n",
       "      <th>StockCode</th>\n",
       "      <th>Description</th>\n",
       "      <th>Quantity</th>\n",
       "      <th>InvoiceDate</th>\n",
       "      <th>Price</th>\n",
       "      <th>Customer ID</th>\n",
       "      <th>Country</th>\n",
       "      <th>TotalPrice</th>\n",
       "    </tr>\n",
       "  </thead>\n",
       "  <tbody>\n",
       "    <tr>\n",
       "      <th>45228</th>\n",
       "      <td>493410</td>\n",
       "      <td>TEST001</td>\n",
       "      <td>This is a test product.</td>\n",
       "      <td>5</td>\n",
       "      <td>2010-01-04 09:24:00</td>\n",
       "      <td>4.5</td>\n",
       "      <td>12346.0</td>\n",
       "      <td>United Kingdom</td>\n",
       "      <td>22.5</td>\n",
       "    </tr>\n",
       "    <tr>\n",
       "      <th>45230</th>\n",
       "      <td>493412</td>\n",
       "      <td>TEST001</td>\n",
       "      <td>This is a test product.</td>\n",
       "      <td>5</td>\n",
       "      <td>2010-01-04 09:53:00</td>\n",
       "      <td>4.5</td>\n",
       "      <td>12346.0</td>\n",
       "      <td>United Kingdom</td>\n",
       "      <td>22.5</td>\n",
       "    </tr>\n",
       "    <tr>\n",
       "      <th>56117</th>\n",
       "      <td>494450</td>\n",
       "      <td>TEST001</td>\n",
       "      <td>This is a test product.</td>\n",
       "      <td>5</td>\n",
       "      <td>2010-01-14 13:50:00</td>\n",
       "      <td>4.5</td>\n",
       "      <td>12346.0</td>\n",
       "      <td>United Kingdom</td>\n",
       "      <td>22.5</td>\n",
       "    </tr>\n",
       "    <tr>\n",
       "      <th>66084</th>\n",
       "      <td>495295</td>\n",
       "      <td>TEST001</td>\n",
       "      <td>This is a test product.</td>\n",
       "      <td>5</td>\n",
       "      <td>2010-01-22 13:30:00</td>\n",
       "      <td>4.5</td>\n",
       "      <td>12346.0</td>\n",
       "      <td>United Kingdom</td>\n",
       "      <td>22.5</td>\n",
       "    </tr>\n",
       "  </tbody>\n",
       "</table>\n",
       "</div>"
      ],
      "text/plain": [
       "      Invoice StockCode              Description  Quantity  \\\n",
       "45228  493410   TEST001  This is a test product.         5   \n",
       "45230  493412   TEST001  This is a test product.         5   \n",
       "56117  494450   TEST001  This is a test product.         5   \n",
       "66084  495295   TEST001  This is a test product.         5   \n",
       "\n",
       "              InvoiceDate  Price  Customer ID         Country  TotalPrice  \n",
       "45228 2010-01-04 09:24:00    4.5      12346.0  United Kingdom        22.5  \n",
       "45230 2010-01-04 09:53:00    4.5      12346.0  United Kingdom        22.5  \n",
       "56117 2010-01-14 13:50:00    4.5      12346.0  United Kingdom        22.5  \n",
       "66084 2010-01-22 13:30:00    4.5      12346.0  United Kingdom        22.5  "
      ]
     },
     "execution_count": 127,
     "metadata": {},
     "output_type": "execute_result"
    }
   ],
   "source": [
    "test_product_rows"
   ]
  },
  {
   "attachments": {},
   "cell_type": "markdown",
   "metadata": {},
   "source": [
    "## 4.3 Datetime start & end"
   ]
  },
  {
   "cell_type": "code",
   "execution_count": 128,
   "metadata": {},
   "outputs": [
    {
     "name": "stdout",
     "output_type": "stream",
     "text": [
      "Number of days between start and end dates: 27\n"
     ]
    }
   ],
   "source": [
    "start_date = df_fltrd['InvoiceDate'].min()\n",
    "end_date = df_fltrd['InvoiceDate'].max()\n",
    "\n",
    "days_difference = (end_date - start_date).days\n",
    "\n",
    "print(\"Number of days between start and end dates:\", days_difference)"
   ]
  },
  {
   "attachments": {},
   "cell_type": "markdown",
   "metadata": {},
   "source": [
    "## 4.4 Negative numerical values"
   ]
  },
  {
   "attachments": {},
   "cell_type": "markdown",
   "metadata": {},
   "source": [
    "I saw that many quantity values are negative. When I see the discussion about negative quality values, I discovered that every negative quantity values have values in column \"Invoice\" that start with \"C\" alphabet. The \"C\" means are cancelled transactions. The first code is to see all negative Quantity values and the second code is to see all Quantity values that have values in column \"Invoice\" that start with \"C\" alphabet."
   ]
  },
  {
   "cell_type": "code",
   "execution_count": 129,
   "metadata": {},
   "outputs": [
    {
     "data": {
      "image/png": "[encoded data removed]",
      "text/plain": [
       "<Figure size 432x288 with 1 Axes>"
      ]
     },
     "metadata": {
      "needs_background": "light"
     },
     "output_type": "display_data"
    }
   ],
   "source": [
    "# Filter the DataFrame for negative values\n",
    "df_negative = df_fltrd[df_fltrd['Quantity'] < 0]\n",
    "\n",
    "# Plot the kernel density plot\n",
    "sns.kdeplot(df_negative['Quantity'])\n",
    "\n",
    "# Plot the line chart\n",
    "ax = df_negative['Quantity'].value_counts().sort_index().plot(kind='line')\n",
    "# Set labels and title\n",
    "plt.xlabel('Quantity')\n",
    "plt.ylabel('Density')\n",
    "plt.title('Distribution of Quantity')\n",
    "# Set the y-axis limits\n",
    "ax.set_ylim(0, 10)  # Adjust the limits as per your requirement\n",
    "# Display the chart\n",
    "plt.show()"
   ]
  },
  {
   "cell_type": "code",
   "execution_count": 130,
   "metadata": {},
   "outputs": [
    {
     "name": "stdout",
     "output_type": "stream",
     "text": [
      "45229    -1\n",
      "45240    -3\n",
      "45241    -1\n",
      "45284    -1\n",
      "45285    -2\n",
      "         ..\n",
      "75976   -12\n",
      "75977   -12\n",
      "76097    -1\n",
      "76098    -1\n",
      "76282    -1\n",
      "Name: Quantity, Length: 686, dtype: int64\n"
     ]
    }
   ],
   "source": [
    "# Filter the \"Quantity\" column based on values in \"Invoice\" starting with \"C\" and skip NaN values\n",
    "filtered_quantity = df_fltrd.loc[df_fltrd['Invoice'].str.startswith('C') & df_fltrd['Quantity'].notna(), 'Quantity']\n",
    "\n",
    "# Print the filtered \"Quantity\" values\n",
    "print(filtered_quantity)"
   ]
  },
  {
   "attachments": {},
   "cell_type": "markdown",
   "metadata": {},
   "source": [
    "<center>End of section 4</center>\n",
    "<hr>\n",
    "<hr>"
   ]
  },
  {
   "attachments": {},
   "cell_type": "markdown",
   "metadata": {},
   "source": [
    "# 5. Data Pre-Processing"
   ]
  },
  {
   "attachments": {},
   "cell_type": "markdown",
   "metadata": {},
   "source": [
    "## 5.1 Data Cleaning"
   ]
  },
  {
   "attachments": {},
   "cell_type": "markdown",
   "metadata": {},
   "source": [
    "### 5.1.1 Handlng Missing Value"
   ]
  },
  {
   "attachments": {},
   "cell_type": "markdown",
   "metadata": {},
   "source": [
    "Let's see what kind of file that are missing"
   ]
  },
  {
   "cell_type": "code",
   "execution_count": 131,
   "metadata": {},
   "outputs": [],
   "source": [
    "def impute_nan_create_category(DataFrame,ColName):\n",
    "     DataFrame[ColName] = np.where(DataFrame[ColName].isnull(),\"Unknown\",DataFrame[ColName])"
   ]
  },
  {
   "cell_type": "code",
   "execution_count": 132,
   "metadata": {},
   "outputs": [
    {
     "name": "stderr",
     "output_type": "stream",
     "text": [
      "C:\\Users\\User\\AppData\\Local\\Temp/ipykernel_10032/280513186.py:2: SettingWithCopyWarning: \n",
      "A value is trying to be set on a copy of a slice from a DataFrame.\n",
      "Try using .loc[row_indexer,col_indexer] = value instead\n",
      "\n",
      "See the caveats in the documentation: https://pandas.pydata.org/pandas-docs/stable/user_guide/indexing.html#returning-a-view-versus-a-copy\n",
      "  DataFrame[ColName] = np.where(DataFrame[ColName].isnull(),\"Unknown\",DataFrame[ColName])\n"
     ]
    }
   ],
   "source": [
    "for Columns in ['Customer ID','Description']:\n",
    "    impute_nan_create_category(df_fltrd,Columns)"
   ]
  },
  {
   "cell_type": "code",
   "execution_count": 133,
   "metadata": {},
   "outputs": [
    {
     "name": "stdout",
     "output_type": "stream",
     "text": [
      "<class 'pandas.core.frame.DataFrame'>\n",
      "Int64Index: 31555 entries, 45228 to 76782\n",
      "Data columns (total 9 columns):\n",
      " #   Column       Non-Null Count  Dtype         \n",
      "---  ------       --------------  -----         \n",
      " 0   Invoice      31555 non-null  object        \n",
      " 1   StockCode    31555 non-null  object        \n",
      " 2   Description  31555 non-null  object        \n",
      " 3   Quantity     31555 non-null  int64         \n",
      " 4   InvoiceDate  31555 non-null  datetime64[ns]\n",
      " 5   Price        31555 non-null  float64       \n",
      " 6   Customer ID  31555 non-null  object        \n",
      " 7   Country      31555 non-null  object        \n",
      " 8   TotalPrice   31555 non-null  float64       \n",
      "dtypes: datetime64[ns](1), float64(2), int64(1), object(5)\n",
      "memory usage: 2.4+ MB\n"
     ]
    }
   ],
   "source": [
    "df_fltrd.info()"
   ]
  },
  {
   "cell_type": "code",
   "execution_count": 134,
   "metadata": {},
   "outputs": [
    {
     "data": {
      "text/plain": [
       "Invoice        0\n",
       "StockCode      0\n",
       "Description    0\n",
       "Quantity       0\n",
       "InvoiceDate    0\n",
       "Price          0\n",
       "Customer ID    0\n",
       "Country        0\n",
       "TotalPrice     0\n",
       "dtype: int64"
      ]
     },
     "execution_count": 134,
     "metadata": {},
     "output_type": "execute_result"
    }
   ],
   "source": [
    "df_fltrd.isna().sum().sort_values(ascending=False)"
   ]
  },
  {
   "cell_type": "code",
   "execution_count": 135,
   "metadata": {},
   "outputs": [
    {
     "data": {
      "text/plain": [
       "Unknown    9116\n",
       "14606.0     349\n",
       "17850.0     339\n",
       "17841.0     305\n",
       "14911.0     273\n",
       "           ... \n",
       "18220.0       1\n",
       "14912.0       1\n",
       "14613.0       1\n",
       "12846.0       1\n",
       "14267.0       1\n",
       "Name: Customer ID, Length: 787, dtype: int64"
      ]
     },
     "execution_count": 135,
     "metadata": {},
     "output_type": "execute_result"
    }
   ],
   "source": [
    "df_fltrd['Customer ID'].value_counts()"
   ]
  },
  {
   "cell_type": "code",
   "execution_count": 136,
   "metadata": {},
   "outputs": [
    {
     "data": {
      "text/plain": [
       "WHITE HANGING HEART T-LIGHT HOLDER    280\n",
       "Unknown                               222\n",
       "RED HANGING HEART T-LIGHT HOLDER      135\n",
       "72 SWEETHEART FAIRY CAKE CASES        132\n",
       "RED WOOLLY HOTTIE WHITE HEART.        127\n",
       "                                     ... \n",
       "LARGE ZINC/GLASS CANDLEHOLDER           1\n",
       "OPIUM SCENTED VOTIVE CANDLE             1\n",
       "LILAC VOTIVE CANDLE                     1\n",
       "PINK SQUARE COMPACT MIRROR              1\n",
       "HEN & 2 CHICKS IN BASKET                1\n",
       "Name: Description, Length: 2725, dtype: int64"
      ]
     },
     "execution_count": 136,
     "metadata": {},
     "output_type": "execute_result"
    }
   ],
   "source": [
    "df_fltrd['Description'].value_counts()"
   ]
  },
  {
   "cell_type": "code",
   "execution_count": 137,
   "metadata": {},
   "outputs": [
    {
     "name": "stdout",
     "output_type": "stream",
     "text": [
      "          Country  Count\n",
      "0  United Kingdom   9113\n",
      "1            EIRE      3\n"
     ]
    }
   ],
   "source": [
    "counts = df_fltrd.loc[df_fltrd['Customer ID'] == 'Unknown', 'Country'].value_counts().reset_index()\n",
    "counts.columns = ['Country', 'Count']\n",
    "\n",
    "print(counts)"
   ]
  },
  {
   "cell_type": "code",
   "execution_count": 138,
   "metadata": {},
   "outputs": [
    {
     "name": "stdout",
     "output_type": "stream",
     "text": [
      "          Country  Count\n",
      "0  United Kingdom    222\n"
     ]
    }
   ],
   "source": [
    "counts = df_fltrd.loc[df_fltrd['Description'] == 'Unknown', 'Country'].value_counts().reset_index()\n",
    "counts.columns = ['Country', 'Count']\n",
    "\n",
    "print(counts)"
   ]
  },
  {
   "attachments": {},
   "cell_type": "markdown",
   "metadata": {},
   "source": [
    "As we can see, most of missing values are from transaction in UK from both Customer ID or Description. It could be caused by system error in the UK region. Next step I drop or delete the missing values rows."
   ]
  },
  {
   "cell_type": "code",
   "execution_count": 139,
   "metadata": {},
   "outputs": [],
   "source": [
    "# Assuming your dataframe is named 'df'\n",
    "df_cln_5_1_1 = df_fltrd[df_fltrd['Customer ID'] != 'Unknown']"
   ]
  },
  {
   "attachments": {},
   "cell_type": "markdown",
   "metadata": {},
   "source": [
    "### 5.1.2 Handling cancelled transactions"
   ]
  },
  {
   "attachments": {},
   "cell_type": "markdown",
   "metadata": {},
   "source": [
    "Based on observation point 4.6 there are cancelled transactions. This transactions doesnt count as transaction and must be remove."
   ]
  },
  {
   "cell_type": "code",
   "execution_count": 140,
   "metadata": {},
   "outputs": [
    {
     "name": "stdout",
     "output_type": "stream",
     "text": [
      "<class 'pandas.core.frame.DataFrame'>\n",
      "Int64Index: 22439 entries, 45228 to 76782\n",
      "Data columns (total 9 columns):\n",
      " #   Column       Non-Null Count  Dtype         \n",
      "---  ------       --------------  -----         \n",
      " 0   Invoice      22439 non-null  object        \n",
      " 1   StockCode    22439 non-null  object        \n",
      " 2   Description  22439 non-null  object        \n",
      " 3   Quantity     22439 non-null  int64         \n",
      " 4   InvoiceDate  22439 non-null  datetime64[ns]\n",
      " 5   Price        22439 non-null  float64       \n",
      " 6   Customer ID  22439 non-null  object        \n",
      " 7   Country      22439 non-null  object        \n",
      " 8   TotalPrice   22439 non-null  float64       \n",
      "dtypes: datetime64[ns](1), float64(2), int64(1), object(5)\n",
      "memory usage: 1.7+ MB\n"
     ]
    }
   ],
   "source": [
    "df_cln_5_1_1.info()"
   ]
  },
  {
   "cell_type": "code",
   "execution_count": 141,
   "metadata": {},
   "outputs": [],
   "source": [
    "# Drop rows with missing values in \"Invoice\" column\n",
    "df_cleaned = df_cln_5_1_1.dropna(subset=['Invoice'])\n",
    "\n",
    "# Convert \"Invoice\" column to strings\n",
    "df_cleaned['Invoice'] = df_cleaned['Invoice'].astype(str)\n",
    "\n",
    "# Drop rows where \"Invoice\" starts with 'C'\n",
    "df_cln_5_1_2 = df_cleaned[~df_cleaned['Invoice'].str.startswith('C')]"
   ]
  },
  {
   "cell_type": "code",
   "execution_count": 142,
   "metadata": {},
   "outputs": [
    {
     "name": "stdout",
     "output_type": "stream",
     "text": [
      "<class 'pandas.core.frame.DataFrame'>\n",
      "Int64Index: 21778 entries, 45228 to 76782\n",
      "Data columns (total 9 columns):\n",
      " #   Column       Non-Null Count  Dtype         \n",
      "---  ------       --------------  -----         \n",
      " 0   Invoice      21778 non-null  object        \n",
      " 1   StockCode    21778 non-null  object        \n",
      " 2   Description  21778 non-null  object        \n",
      " 3   Quantity     21778 non-null  int64         \n",
      " 4   InvoiceDate  21778 non-null  datetime64[ns]\n",
      " 5   Price        21778 non-null  float64       \n",
      " 6   Customer ID  21778 non-null  object        \n",
      " 7   Country      21778 non-null  object        \n",
      " 8   TotalPrice   21778 non-null  float64       \n",
      "dtypes: datetime64[ns](1), float64(2), int64(1), object(5)\n",
      "memory usage: 1.7+ MB\n"
     ]
    }
   ],
   "source": [
    "df_cln_5_1_2.info()"
   ]
  },
  {
   "cell_type": "code",
   "execution_count": 143,
   "metadata": {},
   "outputs": [],
   "source": [
    "# Find negative values in \"Quantity\" column\n",
    "negative_quantity = df_cln_5_1_2[df_cln_5_1_2['Quantity'] < 0]"
   ]
  },
  {
   "cell_type": "code",
   "execution_count": 144,
   "metadata": {},
   "outputs": [
    {
     "name": "stdout",
     "output_type": "stream",
     "text": [
      "Empty DataFrame\n",
      "Columns: [Invoice, StockCode, Description, Quantity, InvoiceDate, Price, Customer ID, Country, TotalPrice]\n",
      "Index: []\n"
     ]
    }
   ],
   "source": [
    "print(negative_quantity)"
   ]
  },
  {
   "cell_type": "code",
   "execution_count": 145,
   "metadata": {},
   "outputs": [
    {
     "data": {
      "text/html": [
       "<div>\n",
       "<style scoped>\n",
       "    .dataframe tbody tr th:only-of-type {\n",
       "        vertical-align: middle;\n",
       "    }\n",
       "\n",
       "    .dataframe tbody tr th {\n",
       "        vertical-align: top;\n",
       "    }\n",
       "\n",
       "    .dataframe thead th {\n",
       "        text-align: right;\n",
       "    }\n",
       "</style>\n",
       "<table border=\"1\" class=\"dataframe\">\n",
       "  <thead>\n",
       "    <tr style=\"text-align: right;\">\n",
       "      <th></th>\n",
       "      <th>Invoice</th>\n",
       "      <th>StockCode</th>\n",
       "      <th>Description</th>\n",
       "      <th>Quantity</th>\n",
       "      <th>InvoiceDate</th>\n",
       "      <th>Price</th>\n",
       "      <th>Customer ID</th>\n",
       "      <th>Country</th>\n",
       "      <th>TotalPrice</th>\n",
       "    </tr>\n",
       "  </thead>\n",
       "  <tbody>\n",
       "  </tbody>\n",
       "</table>\n",
       "</div>"
      ],
      "text/plain": [
       "Empty DataFrame\n",
       "Columns: [Invoice, StockCode, Description, Quantity, InvoiceDate, Price, Customer ID, Country, TotalPrice]\n",
       "Index: []"
      ]
     },
     "execution_count": 145,
     "metadata": {},
     "output_type": "execute_result"
    }
   ],
   "source": [
    "negative_quantity"
   ]
  },
  {
   "attachments": {},
   "cell_type": "markdown",
   "metadata": {},
   "source": [
    "As we can see from the code above, there are no negative values after this data cleaning process."
   ]
  },
  {
   "attachments": {},
   "cell_type": "markdown",
   "metadata": {},
   "source": [
    "### 5.1.3 Handling Dummy Data"
   ]
  },
  {
   "cell_type": "code",
   "execution_count": 146,
   "metadata": {},
   "outputs": [
    {
     "name": "stdout",
     "output_type": "stream",
     "text": [
      "Start date with 'This is a test product.' Customer ID: 2010-01-04 09:24:00\n",
      "End date with 'This is a test product.' Customer ID: 2010-01-22 13:30:00\n"
     ]
    }
   ],
   "source": [
    "unknown_rows = df_cln_5_1_2[df_cln_5_1_2['Description'] == 'This is a test product.']\n",
    "start_date = unknown_rows['InvoiceDate'].min()\n",
    "end_date = unknown_rows['InvoiceDate'].max()\n",
    "\n",
    "print(\"Start date with 'This is a test product.' Customer ID:\", start_date)\n",
    "print(\"End date with 'This is a test product.' Customer ID:\", end_date)"
   ]
  },
  {
   "attachments": {},
   "cell_type": "markdown",
   "metadata": {},
   "source": [
    "The other values problem is Dummy values. it ranges from 04 January 2010 into 22 January 2010, but only 4 rows/values. I will remove it from the dataset."
   ]
  },
  {
   "cell_type": "code",
   "execution_count": 147,
   "metadata": {},
   "outputs": [],
   "source": [
    "df_cln_5_1_3 = df_cln_5_1_2[df_cln_5_1_2['Description'] != 'This is a test product.']"
   ]
  },
  {
   "attachments": {},
   "cell_type": "markdown",
   "metadata": {},
   "source": [
    "### 5.1.4 Make a \"Retention\" column"
   ]
  },
  {
   "attachments": {},
   "cell_type": "markdown",
   "metadata": {},
   "source": [
    "I make a new column called \"Retention\" to calculate customers that are repeating transaction from different day."
   ]
  },
  {
   "cell_type": "code",
   "execution_count": 148,
   "metadata": {},
   "outputs": [],
   "source": [
    "# Sort the DataFrame by 'Customer ID' and 'InvoiceDate'\n",
    "df_cln_5_1_3 = df_cln_5_1_3.sort_values(['Customer ID', 'InvoiceDate'])\n",
    "\n",
    "# Group the DataFrame by 'Customer ID'\n",
    "grouped = df_cln_5_1_3.groupby('Customer ID')\n",
    "\n",
    "# Create a new column 'Retention' and calculate the count of unique dates for each customer\n",
    "df_cln_5_1_3['Retention'] = grouped['InvoiceDate'].transform(lambda x: x.dt.date.nunique())"
   ]
  },
  {
   "attachments": {},
   "cell_type": "markdown",
   "metadata": {},
   "source": [
    "## 5.2 Handling Outlier"
   ]
  },
  {
   "attachments": {},
   "cell_type": "markdown",
   "metadata": {},
   "source": [
    "Other than unrelated values such as missing values and dummy values. Observing values in a column that are to far away from other values can affecting how clear analysis is."
   ]
  },
  {
   "attachments": {},
   "cell_type": "markdown",
   "metadata": {},
   "source": [
    "### 5.2.1 Define function for handling outlier"
   ]
  },
  {
   "attachments": {},
   "cell_type": "markdown",
   "metadata": {},
   "source": [
    "#### 5.2.1.1 find_skewed_boundaries"
   ]
  },
  {
   "cell_type": "code",
   "execution_count": 149,
   "metadata": {},
   "outputs": [],
   "source": [
    "def find_skewed_boundaries(df, variable, distance):\n",
    "    lower_quantile = df[variable].quantile(0.25)\n",
    "    upper_quantile = df[variable].quantile(0.75)\n",
    "    IQR = upper_quantile - lower_quantile\n",
    "\n",
    "    lower_boundary = lower_quantile - (IQR * distance)\n",
    "    upper_boundary = upper_quantile + (IQR * distance)\n",
    "\n",
    "    return lower_boundary, upper_boundary"
   ]
  },
  {
   "attachments": {},
   "cell_type": "markdown",
   "metadata": {},
   "source": [
    "#### 5.2.1.2 diagnostic_plots"
   ]
  },
  {
   "cell_type": "code",
   "execution_count": 150,
   "metadata": {},
   "outputs": [],
   "source": [
    "def diagnostic_plots(data, feature):\n",
    "    plt.figure(figsize=(16, 4))\n",
    "\n",
    "    plt.subplot(1, 3, 1)\n",
    "    sns.histplot(data[feature], kde=True)\n",
    "    plt.title('Histogram with KDE')\n",
    "\n",
    "    plt.subplot(1, 3, 2)\n",
    "    stats.probplot(data[feature], dist=\"norm\", plot=plt)\n",
    "    plt.title('Q-Q Plot')\n",
    "\n",
    "    plt.subplot(1, 3, 3)\n",
    "    sns.boxplot(y=data[feature])\n",
    "    plt.title('Boxplot')\n",
    "\n",
    "    plt.tight_layout()\n",
    "    plt.show()"
   ]
  },
  {
   "attachments": {},
   "cell_type": "markdown",
   "metadata": {},
   "source": [
    "### 5.2.2 Outlier Observation "
   ]
  },
  {
   "attachments": {},
   "cell_type": "markdown",
   "metadata": {},
   "source": [
    "#### 5.2.2.1 Quantity"
   ]
  },
  {
   "cell_type": "code",
   "execution_count": 152,
   "metadata": {},
   "outputs": [
    {
     "data": {
      "image/png": "[encoded data removed]",
      "text/plain": [
       "<Figure size 1152x288 with 3 Axes>"
      ]
     },
     "metadata": {
      "needs_background": "light"
     },
     "output_type": "display_data"
    },
    {
     "name": "stdout",
     "output_type": "stream",
     "text": [
      "\n",
      "Nama variabel: Quantity\n",
      "\n",
      "Nilai Skewness:  42.795257907881265\n",
      "Upper bound Quantity threshold : 27.0\n",
      "Lower bound Quantity threshold : -13.0\n",
      "Quantity Outliers above: 1489\n",
      "Quantity Outliers  below: 0\n"
     ]
    }
   ],
   "source": [
    "diagnostic_plots(df_cln_5_1_3, 'Quantity')\n",
    "print('\\nNama variabel: Quantity')\n",
    "print('\\nNilai Skewness: ', df_cln_5_1_3['Quantity'].skew())\n",
    "\n",
    "skew_lower_bound, skew_upper_bound = find_skewed_boundaries(df_cln_5_1_3, 'Quantity', 1.5)\n",
    "print('Upper bound Quantity threshold :', skew_upper_bound)\n",
    "print('Lower bound Quantity threshold :', skew_lower_bound)\n",
    "\n",
    "outliers_below = len(df_cln_5_1_3[df_cln_5_1_3['Quantity'] < skew_lower_bound])\n",
    "outliers_above = len(df_cln_5_1_3[df_cln_5_1_3['Quantity'] > skew_upper_bound])\n",
    "\n",
    "print('Quantity Outliers above:', outliers_above)\n",
    "print('Quantity Outliers  below:', outliers_below)"
   ]
  },
  {
   "attachments": {},
   "cell_type": "markdown",
   "metadata": {},
   "source": [
    "#### 5.2.2.2 Price"
   ]
  },
  {
   "cell_type": "code",
   "execution_count": 153,
   "metadata": {},
   "outputs": [
    {
     "data": {
      "image/png": "[encoded data removed]",
      "text/plain": [
       "<Figure size 1152x288 with 3 Axes>"
      ]
     },
     "metadata": {
      "needs_background": "light"
     },
     "output_type": "display_data"
    },
    {
     "name": "stdout",
     "output_type": "stream",
     "text": [
      "\n",
      "Nama variabel: Price\n",
      "\n",
      "Nilai Skewness:  132.82080626067264\n",
      "Upper bound Price threshold : 7.5\n",
      "Lower bound Price threshold : -2.5\n",
      "Price Outliers above: 1451\n",
      "Price Outliers  below: 0\n"
     ]
    }
   ],
   "source": [
    "diagnostic_plots(df_cln_5_1_3, 'Price')\n",
    "print('\\nNama variabel: Price')\n",
    "print('\\nNilai Skewness: ', df_cln_5_1_3['Price'].skew())\n",
    "\n",
    "skew_lower_bound, skew_upper_bound = find_skewed_boundaries(df_cln_5_1_3, 'Price', 1.5)\n",
    "print('Upper bound Price threshold :', skew_upper_bound)\n",
    "print('Lower bound Price threshold :', skew_lower_bound)\n",
    "\n",
    "outliers_below = len(df_cln_5_1_3[df_cln_5_1_3['Price'] < skew_lower_bound])\n",
    "outliers_above = len(df_cln_5_1_3[df_cln_5_1_3['Price'] > skew_upper_bound])\n",
    "\n",
    "print('Price Outliers above:', outliers_above)\n",
    "print('Price Outliers  below:', outliers_below)"
   ]
  },
  {
   "attachments": {},
   "cell_type": "markdown",
   "metadata": {},
   "source": [
    "#### 5.2.2.3 Retention"
   ]
  },
  {
   "cell_type": "code",
   "execution_count": 154,
   "metadata": {},
   "outputs": [
    {
     "data": {
      "image/png": "[encoded data removed]",
      "text/plain": [
       "<Figure size 1152x288 with 3 Axes>"
      ]
     },
     "metadata": {
      "needs_background": "light"
     },
     "output_type": "display_data"
    },
    {
     "name": "stdout",
     "output_type": "stream",
     "text": [
      "\n",
      "Nama variabel: Repetition\n",
      "\n",
      "Nilai Skewness:  2.766800155905645\n",
      "Upper bound Repetition threshold : 3.5\n",
      "Lower bound Repetition threshold : -0.5\n",
      "Repetition Outliers above: 2150\n",
      "Repetition Outliers  below: 0\n"
     ]
    }
   ],
   "source": [
    "diagnostic_plots(df_cln_5_1_3, 'Retention\n",
    "print('\\nNama variabel: Retention\n",
    "print('\\nNilai Skewness: ', df_cln_5_1_3['Retention.skew())\n",
    "\n",
    "skew_lower_bound, skew_upper_bound = find_skewed_boundaries(df_cln_5_1_3, 'Retention', 1.5)\n",
    "print('Upper bound Retentionhreshold :', skew_upper_bound)\n",
    "print('Lower bound Retention threshold :', skew_lower_bound)\n",
    "\n",
    "outliers_below = len(df_cln_5_1_3[df_cln_5_1_3['Retention] < skew_lower_bound])\n",
    "outliers_above = len(df_cln_5_1_3[df_cln_5_1_3['Retention] > skew_upper_bound])\n",
    "\n",
    "print('Retention Outliers above:', outliers_above)\n",
    "print('Retentionutliers  below:', outliers_below)"
   ]
  },
  {
   "attachments": {},
   "cell_type": "markdown",
   "metadata": {},
   "source": [
    "#### 5.2.2.4 TotalPrice"
   ]
  },
  {
   "cell_type": "code",
   "execution_count": 155,
   "metadata": {},
   "outputs": [
    {
     "data": {
      "image/png": "[encoded data removed]",
      "text/plain": [
       "<Figure size 1152x288 with 3 Axes>"
      ]
     },
     "metadata": {
      "needs_background": "light"
     },
     "output_type": "display_data"
    },
    {
     "name": "stdout",
     "output_type": "stream",
     "text": [
      "\n",
      "Nama variabel: TotalPrice\n",
      "\n",
      "Nilai Skewness:  43.08233371290778\n",
      "Upper bound TotalPrice threshold : 41.894999999999996\n",
      "Lower bound TotalPrice threshold : -17.024999999999995\n",
      "TotalPrice Outliers above: 2056\n",
      "TotalPrice Outliers  below: 0\n"
     ]
    }
   ],
   "source": [
    "diagnostic_plots(df_cln_5_1_3, 'TotalPrice')\n",
    "print('\\nNama variabel: TotalPrice')\n",
    "print('\\nNilai Skewness: ', df_cln_5_1_3['TotalPrice'].skew())\n",
    "\n",
    "skew_lower_bound, skew_upper_bound = find_skewed_boundaries(df_cln_5_1_3, 'TotalPrice', 1.5)\n",
    "print('Upper bound TotalPrice threshold :', skew_upper_bound)\n",
    "print('Lower bound TotalPrice threshold :', skew_lower_bound)\n",
    "\n",
    "outliers_below = len(df_cln_5_1_3[df_cln_5_1_3['TotalPrice'] < skew_lower_bound])\n",
    "outliers_above = len(df_cln_5_1_3[df_cln_5_1_3['TotalPrice'] > skew_upper_bound])\n",
    "\n",
    "print('TotalPrice Outliers above:', outliers_above)\n",
    "print('TotalPrice Outliers  below:', outliers_below)"
   ]
  },
  {
   "attachments": {},
   "cell_type": "markdown",
   "metadata": {},
   "source": [
    "### 5.1.3 Removing outliers"
   ]
  },
  {
   "cell_type": "code",
   "execution_count": 197,
   "metadata": {},
   "outputs": [],
   "source": [
    "def remove_outliers(data, variable, lower_bound, upper_bound):\n",
    "    data_without_outliers = data[(data[variable] >= lower_bound) & (data[variable] <= upper_bound)]\n",
    "    return data_without_outliers"
   ]
  },
  {
   "attachments": {},
   "cell_type": "markdown",
   "metadata": {},
   "source": [
    "#### 5.2.3.1 Quantity"
   ]
  },
  {
   "cell_type": "code",
   "execution_count": 198,
   "metadata": {},
   "outputs": [
    {
     "name": "stdout",
     "output_type": "stream",
     "text": [
      "Number of outliers removed: 1489\n"
     ]
    }
   ],
   "source": [
    "upper_bound = 27.0\n",
    "lower_bound = -13.0\n",
    "df_cln_5_2_3_1 = remove_outliers(df_cln_5_1_3, 'Quantity', lower_bound, upper_bound)\n",
    "\n",
    "print('Number of outliers removed:', len(df_cln_5_1_3) - len(df_cln_5_2_3_1))"
   ]
  },
  {
   "attachments": {},
   "cell_type": "markdown",
   "metadata": {},
   "source": [
    "#### 5.2.3.2 Price"
   ]
  },
  {
   "cell_type": "code",
   "execution_count": 199,
   "metadata": {},
   "outputs": [
    {
     "name": "stdout",
     "output_type": "stream",
     "text": [
      "Number of outliers removed: 1436\n"
     ]
    }
   ],
   "source": [
    "upper_bound = 7.5\n",
    "lower_bound = -2.5\n",
    "df_cln_5_2_3_2 = remove_outliers(df_cln_5_2_3_1, 'Price', lower_bound, upper_bound)\n",
    "\n",
    "print('Number of outliers removed:', len(df_cln_5_2_3_1) - len(df_cln_5_2_3_2))"
   ]
  },
  {
   "attachments": {},
   "cell_type": "markdown",
   "metadata": {},
   "source": [
    "#### 5.2.3.3 Retention"
   ]
  },
  {
   "cell_type": "code",
   "execution_count": 200,
   "metadata": {},
   "outputs": [
    {
     "name": "stdout",
     "output_type": "stream",
     "text": [
      "Number of outliers removed: 1612\n"
     ]
    }
   ],
   "source": [
    "upper_bound = 3.5\n",
    "lower_bound = -0.5\n",
    "df_cln_5_2_3_3 = remove_outliers(df_cln_5_2_3_2, 'Retention', lower_bound, upper_bound)\n",
    "\n",
    "print('Number of outliers removed:', len(df_cln_5_2_3_2) - len(df_cln_5_2_3_3))"
   ]
  },
  {
   "attachments": {},
   "cell_type": "markdown",
   "metadata": {},
   "source": [
    "#### 5.2.3.4 TotalPrice"
   ]
  },
  {
   "cell_type": "code",
   "execution_count": 201,
   "metadata": {},
   "outputs": [
    {
     "name": "stdout",
     "output_type": "stream",
     "text": [
      "Number of outliers removed: 573\n"
     ]
    }
   ],
   "source": [
    "upper_bound = 41.894999999999996\n",
    "lower_bound = -17.024999999999995\n",
    "df_cln_5_2_3_4 = remove_outliers(df_cln_5_2_3_3, 'TotalPrice', lower_bound, upper_bound)\n",
    "\n",
    "print('Number of outliers removed:', len(df_cln_5_2_3_3) - len(df_cln_5_2_3_4))"
   ]
  },
  {
   "attachments": {},
   "cell_type": "markdown",
   "metadata": {},
   "source": [
    "## 5.2 Scaling & Encoding"
   ]
  },
  {
   "attachments": {},
   "cell_type": "markdown",
   "metadata": {},
   "source": [
    "### 5.2.1 Saving for cluster analysis"
   ]
  },
  {
   "cell_type": "code",
   "execution_count": 202,
   "metadata": {},
   "outputs": [
    {
     "name": "stdout",
     "output_type": "stream",
     "text": [
      "Number of outliers removed: 573\n"
     ]
    }
   ],
   "source": [
    "upper_bound = 41.894999999999996\n",
    "lower_bound = -17.024999999999995\n",
    "df_final = remove_outliers(df_cln_5_2_3_3, 'TotalPrice', lower_bound, upper_bound)\n",
    "\n",
    "print('Number of outliers removed:', len(df_cln_5_2_3_3) - len(df_final))"
   ]
  },
  {
   "attachments": {},
   "cell_type": "markdown",
   "metadata": {},
   "source": [
    "### 5.2.3 Scaling"
   ]
  },
  {
   "cell_type": "code",
   "execution_count": 204,
   "metadata": {},
   "outputs": [],
   "source": [
    "categorical_features = ['StockCode', 'Description', 'Customer ID', 'Country']\n",
    "numerical_features = ['Quantity', 'Price','Retention']"
   ]
  },
  {
   "cell_type": "code",
   "execution_count": 205,
   "metadata": {},
   "outputs": [
    {
     "name": "stderr",
     "output_type": "stream",
     "text": [
      "c:\\Users\\User\\anaconda3\\lib\\site-packages\\pandas\\core\\frame.py:3678: SettingWithCopyWarning: \n",
      "A value is trying to be set on a copy of a slice from a DataFrame.\n",
      "Try using .loc[row_indexer,col_indexer] = value instead\n",
      "\n",
      "See the caveats in the documentation: https://pandas.pydata.org/pandas-docs/stable/user_guide/indexing.html#returning-a-view-versus-a-copy\n",
      "  self[col] = igetitem(value, i)\n"
     ]
    }
   ],
   "source": [
    "scaler = StandardScaler()\n",
    "df_cln_5_2_3_4[numerical_features] = scaler.fit_transform(df_cln_5_2_3_4[numerical_features])"
   ]
  },
  {
   "attachments": {},
   "cell_type": "markdown",
   "metadata": {},
   "source": [
    "### 5.2.3 Encoding"
   ]
  },
  {
   "cell_type": "code",
   "execution_count": 207,
   "metadata": {},
   "outputs": [
    {
     "name": "stderr",
     "output_type": "stream",
     "text": [
      "C:\\Users\\User\\AppData\\Local\\Temp/ipykernel_10032/1746479780.py:4: SettingWithCopyWarning: \n",
      "A value is trying to be set on a copy of a slice from a DataFrame.\n",
      "Try using .loc[row_indexer,col_indexer] = value instead\n",
      "\n",
      "See the caveats in the documentation: https://pandas.pydata.org/pandas-docs/stable/user_guide/indexing.html#returning-a-view-versus-a-copy\n",
      "  df_cln_5_2_3_4[feature] = le.fit_transform(df_cln_5_2_3_4[feature].astype(str))\n"
     ]
    }
   ],
   "source": [
    "label_encoders = {}\n",
    "for feature in categorical_features:\n",
    "    le = LabelEncoder()\n",
    "    df_cln_5_2_3_4[feature] = le.fit_transform(df_cln_5_2_3_4[feature].astype(str))\n",
    "    label_encoders[feature] = le\n"
   ]
  },
  {
   "attachments": {},
   "cell_type": "markdown",
   "metadata": {},
   "source": [
    "<center>End of section 5</center>\n",
    "<hr>\n",
    "<hr>"
   ]
  },
  {
   "attachments": {},
   "cell_type": "markdown",
   "metadata": {},
   "source": [
    "# 6. Clustering"
   ]
  },
  {
   "attachments": {},
   "cell_type": "markdown",
   "metadata": {},
   "source": [
    "## 6.1 Preparing the data"
   ]
  },
  {
   "cell_type": "code",
   "execution_count": 210,
   "metadata": {},
   "outputs": [],
   "source": [
    "cluster_data = df_cln_5_2_3_4[['StockCode', 'Description', 'Quantity', 'Price', 'Customer ID', 'Country','Retention','TotalPrice']]"
   ]
  },
  {
   "attachments": {},
   "cell_type": "markdown",
   "metadata": {},
   "source": [
    "## 6.2 Model Evaluation"
   ]
  },
  {
   "attachments": {},
   "cell_type": "markdown",
   "metadata": {},
   "source": [
    "### 6.2.1 Elbow Method"
   ]
  },
  {
   "cell_type": "code",
   "execution_count": 213,
   "metadata": {},
   "outputs": [
    {
     "name": "stderr",
     "output_type": "stream",
     "text": [
      "Progress: 100%|██████████| 9/9 [20:43<00:00, 138.17s/it]\n"
     ]
    }
   ],
   "source": [
    "# Define a range of k values to evaluate\n",
    "k_values = range(1, 10)\n",
    "# Initialize a list to store the cost values\n",
    "costs = []\n",
    "\n",
    "# Display loading bar\n",
    "with tqdm(total=len(k_values), desc=\"Progress\") as pbar:\n",
    "    for k in k_values:\n",
    "        # Apply K-Prototypes clustering\n",
    "        kproto = KPrototypes(n_clusters=k, init='Cao')\n",
    "        kproto.fit(cluster_data.values, categorical=[0, 1, 4, 5])\n",
    "\n",
    "        # Append the cost value to the list\n",
    "        costs.append(kproto.cost_)\n",
    "\n",
    "        # Update loading bar\n",
    "        pbar.update(1)"
   ]
  },
  {
   "cell_type": "code",
   "execution_count": 214,
   "metadata": {},
   "outputs": [
    {
     "data": {
      "image/png": "[encoded data removed]",
      "text/plain": [
       "<Figure size 432x288 with 1 Axes>"
      ]
     },
     "metadata": {
      "needs_background": "light"
     },
     "output_type": "display_data"
    }
   ],
   "source": [
    "# Plot the elbow curve\n",
    "plt.plot(k_values, costs, 'bx-')\n",
    "plt.xlabel('Number of Clusters (k)')\n",
    "plt.ylabel('Cost')\n",
    "plt.title('Elbow Method')\n",
    "plt.show()"
   ]
  },
  {
   "attachments": {},
   "cell_type": "markdown",
   "metadata": {},
   "source": [
    "### 6.2.2 Silhouette Method"
   ]
  },
  {
   "cell_type": "code",
   "execution_count": 215,
   "metadata": {},
   "outputs": [
    {
     "name": "stderr",
     "output_type": "stream",
     "text": [
      "Progress: 100%|██████████| 8/8 [35:12<00:00, 264.03s/it]  \n"
     ]
    }
   ],
   "source": [
    "# Define range of k values to evaluate\n",
    "k_values = range(2, 10)\n",
    "\n",
    "# Initialize a list to store the silhouette scores\n",
    "silhouette_scores = []\n",
    "\n",
    "# Display loading bar\n",
    "with tqdm(total=len(k_values), desc=\"Progress\") as pbar:\n",
    "    for k in k_values:\n",
    "        # Apply K-Prototypes clustering\n",
    "        kproto = KPrototypes(n_clusters=k, init='Cao')\n",
    "        kproto.fit(cluster_data, categorical=[0, 1, 4, 5])\n",
    "\n",
    "        # Assign cluster labels\n",
    "        labels = kproto.labels_\n",
    "\n",
    "        # Calculate silhouette score\n",
    "        silhouette_avg = silhouette_score(cluster_data, labels)\n",
    "\n",
    "        # Append the silhouette score to the list\n",
    "        silhouette_scores.append(silhouette_avg)\n",
    "\n",
    "        # Update loading bar\n",
    "        pbar.update(1)"
   ]
  },
  {
   "cell_type": "code",
   "execution_count": 216,
   "metadata": {},
   "outputs": [
    {
     "data": {
      "image/png": "[encoded data removed]",
      "text/plain": [
       "<Figure size 432x288 with 1 Axes>"
      ]
     },
     "metadata": {
      "needs_background": "light"
     },
     "output_type": "display_data"
    }
   ],
   "source": [
    "# Plot the silhouette scores\n",
    "plt.plot(k_values, silhouette_scores, 'bx-')\n",
    "plt.xlabel('Number of Clusters (k)')\n",
    "plt.ylabel('Silhouette Score')\n",
    "plt.title('Silhouette Method')\n",
    "plt.show()"
   ]
  },
  {
   "attachments": {},
   "cell_type": "markdown",
   "metadata": {},
   "source": [
    "### 6.2.3 Model evaluation conclusion"
   ]
  },
  {
   "attachments": {},
   "cell_type": "markdown",
   "metadata": {},
   "source": [
    "Both method have different answer, but I choose elbow method because I think Elbow method are making more significant pattern in the cluster information."
   ]
  },
  {
   "attachments": {},
   "cell_type": "markdown",
   "metadata": {},
   "source": [
    "## 6.3 Model Clustering"
   ]
  },
  {
   "attachments": {},
   "cell_type": "markdown",
   "metadata": {},
   "source": [
    "I'm using K-Prototype because it can clustering both categorical and numerical data."
   ]
  },
  {
   "cell_type": "code",
   "execution_count": 276,
   "metadata": {},
   "outputs": [
    {
     "name": "stderr",
     "output_type": "stream",
     "text": [
      "Clustering:   1%|          | 1/100 [03:53<6:24:31, 233.05s/it]\n"
     ]
    }
   ],
   "source": [
    "# Apply K-Prototypes clustering\n",
    "k = 4  # Number of clusters\n",
    "kproto = KPrototypes(n_clusters=k, init='Cao')\n",
    "with tqdm(total=100, desc=\"Clustering\") as pbar:\n",
    "    clusters = kproto.fit_predict(cluster_data.values, categorical=[0, 1, 4, 5])\n",
    "    pbar.update(1)"
   ]
  },
  {
   "cell_type": "code",
   "execution_count": 277,
   "metadata": {},
   "outputs": [
    {
     "name": "stdout",
     "output_type": "stream",
     "text": [
      "[3 3 3 ... 1 1 3]\n"
     ]
    }
   ],
   "source": [
    "# Print the cluster assignments\n",
    "print(clusters)"
   ]
  },
  {
   "cell_type": "code",
   "execution_count": 278,
   "metadata": {},
   "outputs": [
    {
     "name": "stderr",
     "output_type": "stream",
     "text": [
      "C:\\Users\\User\\AppData\\Local\\Temp/ipykernel_10032/4269281978.py:2: SettingWithCopyWarning: \n",
      "A value is trying to be set on a copy of a slice from a DataFrame.\n",
      "Try using .loc[row_indexer,col_indexer] = value instead\n",
      "\n",
      "See the caveats in the documentation: https://pandas.pydata.org/pandas-docs/stable/user_guide/indexing.html#returning-a-view-versus-a-copy\n",
      "  df_final['Cluster'] = clusters\n"
     ]
    }
   ],
   "source": [
    "# Add cluster assignment to a new column\n",
    "df_final['Cluster'] = clusters"
   ]
  },
  {
   "cell_type": "code",
   "execution_count": 279,
   "metadata": {},
   "outputs": [
    {
     "data": {
      "text/plain": [
       "0    6314\n",
       "1    4468\n",
       "3    4410\n",
       "2    1472\n",
       "Name: Cluster, dtype: int64"
      ]
     },
     "execution_count": 279,
     "metadata": {},
     "output_type": "execute_result"
    }
   ],
   "source": [
    "df_final['Cluster'].value_counts()"
   ]
  },
  {
   "cell_type": "code",
   "execution_count": 280,
   "metadata": {},
   "outputs": [],
   "source": [
    "cluster_1 = df_final[df_final['Cluster'] == 0]\n",
    "cluster_2 = df_final[df_final['Cluster'] == 1]\n",
    "cluster_3 = df_final[df_final['Cluster'] == 2]\n",
    "cluster_4 = df_final[df_final['Cluster'] == 3]"
   ]
  },
  {
   "attachments": {},
   "cell_type": "markdown",
   "metadata": {},
   "source": [
    "<center>End of section 6</center>\n",
    "<hr>\n",
    "<hr>"
   ]
  },
  {
   "attachments": {},
   "cell_type": "markdown",
   "metadata": {},
   "source": [
    "# 7. Exploratory Data Analysis: After clustering"
   ]
  },
  {
   "attachments": {},
   "cell_type": "markdown",
   "metadata": {},
   "source": [
    "## 7.1 Visualization function definition"
   ]
  },
  {
   "attachments": {},
   "cell_type": "markdown",
   "metadata": {},
   "source": [
    "### 7.1.1 display_top_values_by_cluster"
   ]
  },
  {
   "cell_type": "code",
   "execution_count": 281,
   "metadata": {},
   "outputs": [],
   "source": [
    "def display_top_values_by_cluster(df, column):\n",
    "    # Group the DataFrame by 'Cluster' and the specified column and count the occurrences\n",
    "    grouped = df.groupby(['Cluster', column]).size().reset_index(name='Count')\n",
    "\n",
    "    # Sort the DataFrame by 'Cluster' in ascending order\n",
    "    grouped = grouped.sort_values('Cluster')\n",
    "\n",
    "    # Iterate over each unique cluster value\n",
    "    for cluster_value in grouped['Cluster'].unique():\n",
    "        adjusted_cluster_value = int(cluster_value) + 1\n",
    "        print(f\"Cluster value {adjusted_cluster_value}\")\n",
    "\n",
    "        # Filter the grouped DataFrame for the current cluster value\n",
    "        cluster_df = grouped[grouped['Cluster'] == cluster_value]\n",
    "\n",
    "        # Sort the cluster DataFrame by count in descending order\n",
    "        cluster_df = cluster_df.sort_values('Count', ascending=False)\n",
    "\n",
    "        # Display the top 5 values for the specified column\n",
    "        top_values = cluster_df.head(20)\n",
    "        for index, row in top_values.iterrows():\n",
    "            value = row[column]\n",
    "            count = row['Count']\n",
    "            print(f\"{value}: {count}\")\n",
    "\n",
    "        print()\n"
   ]
  },
  {
   "attachments": {},
   "cell_type": "markdown",
   "metadata": {},
   "source": [
    "### 7.1.2 plot_cluster_histogram"
   ]
  },
  {
   "cell_type": "code",
   "execution_count": 282,
   "metadata": {},
   "outputs": [],
   "source": [
    "def plot_cluster_histogram(data, column, cluster_labels):\n",
    "    num_clusters = len(cluster_labels)\n",
    "\n",
    "    # Adjust cluster labels for non-technical reviewers\n",
    "    adjusted_labels = [label + 1 for label in cluster_labels]\n",
    "\n",
    "    plt.figure(figsize=(5 * num_clusters, 5))\n",
    "\n",
    "    for i, label in enumerate(cluster_labels):\n",
    "        plt.subplot(1, num_clusters, i + 1)\n",
    "        sns.histplot(data[data['Cluster'] == label][column], color='C{}'.format(i))\n",
    "        plt.title('Cluster {}: {}'.format(adjusted_labels[i], column), size=16)\n",
    "        plt.xlabel(column)\n",
    "        plt.ylabel('Count')\n",
    "\n",
    "        # Add value labels to the bars\n",
    "        for p in plt.gca().patches:\n",
    "            plt.gca().annotate(f'{p.get_height():.0f}', (p.get_x() + p.get_width() / 2, p.get_height()),\n",
    "                               ha='center', va='bottom')\n",
    "\n",
    "    plt.tight_layout()\n",
    "    plt.show()"
   ]
  },
  {
   "attachments": {},
   "cell_type": "markdown",
   "metadata": {},
   "source": [
    "### 7.1.3 get_top_ngrams"
   ]
  },
  {
   "attachments": {},
   "cell_type": "markdown",
   "metadata": {},
   "source": [
    "To see the most product that is not well categorized, I used NLTK algorithm to detect a words in sentences. It is because, the column \"Description\" is the only column that describe the product but the values are sentences. Column \"StockCode\" cannot describe the product because its just a code."
   ]
  },
  {
   "cell_type": "code",
   "execution_count": 287,
   "metadata": {},
   "outputs": [],
   "source": [
    "def get_top_ngrams(df, text_column, cluster_column, n, display_values=None):\n",
    "    def process_text(text):\n",
    "        # Tokenize the text into individual words\n",
    "        words = word_tokenize(text.lower())\n",
    "        \n",
    "        # Remove stopwords\n",
    "        stop_words = set(stopwords.words('english'))\n",
    "        words = [word for word in words if word not in stop_words]\n",
    "        \n",
    "        # Generate n-grams\n",
    "        n_grams = list(ngrams(words, n))\n",
    "        \n",
    "        return n_grams\n",
    "    \n",
    "    # Group the DataFrame by 'Cluster' and concatenate the text\n",
    "    grouped = df.groupby(cluster_column)[text_column].apply(lambda x: ' '.join(x)).reset_index()\n",
    "    \n",
    "    # Apply text processing and count the n-grams\n",
    "    grouped['Ngram_Counts'] = grouped[text_column].apply(lambda x: Counter(process_text(x)))\n",
    "    \n",
    "    # Define the mapping of cluster values to display values\n",
    "    if display_values is None:\n",
    "        display_values = {}\n",
    "    \n",
    "    # Get the top n-grams for each cluster\n",
    "    for index, row in grouped.iterrows():\n",
    "        cluster_value = row[cluster_column]\n",
    "        display_cluster_value = display_values.get(cluster_value, cluster_value)\n",
    "        ngram_counts = row['Ngram_Counts']\n",
    "        \n",
    "        print(f\"Cluster value {display_cluster_value}\")\n",
    "        \n",
    "        for ngram, count in ngram_counts.most_common(20):\n",
    "            ngram_str = ' '.join(ngram)\n",
    "            print(f\"{ngram_str}: {count}\")\n",
    "        \n",
    "        print()"
   ]
  },
  {
   "attachments": {},
   "cell_type": "markdown",
   "metadata": {},
   "source": [
    "## 7.2 Cluster Comparison"
   ]
  },
  {
   "attachments": {},
   "cell_type": "markdown",
   "metadata": {},
   "source": [
    "### 7.2.1 StockCode"
   ]
  },
  {
   "cell_type": "code",
   "execution_count": 288,
   "metadata": {},
   "outputs": [
    {
     "name": "stdout",
     "output_type": "stream",
     "text": [
      "Cluster value 1\n",
      "21034: 51\n",
      "84992: 41\n",
      "21985: 31\n",
      "84378: 29\n",
      "21175: 28\n",
      "82580: 27\n",
      "85123A: 26\n",
      "82581: 24\n",
      "22030: 24\n",
      "21238: 23\n",
      "22196: 22\n",
      "21080: 22\n",
      "20751: 21\n",
      "21122: 21\n",
      "82578: 20\n",
      "85049C: 20\n",
      "21212: 20\n",
      "21121: 20\n",
      "85231L: 20\n",
      "21181: 19\n",
      "\n",
      "Cluster value 2\n",
      "84992: 49\n",
      "21212: 47\n",
      "84970S: 37\n",
      "84050: 36\n",
      "84991: 34\n",
      "21498: 29\n",
      "21977: 28\n",
      "48138: 27\n",
      "20685: 25\n",
      "21411: 24\n",
      "21080: 24\n",
      "82483: 23\n",
      "22189: 23\n",
      "48194: 23\n",
      "22196: 22\n",
      "22356: 22\n",
      "21181: 21\n",
      "22131: 21\n",
      "84970L: 21\n",
      "84029E: 21\n",
      "\n",
      "Cluster value 3\n",
      "85123A: 46\n",
      "22189: 26\n",
      "22297: 26\n",
      "22291: 25\n",
      "21390: 22\n",
      "79323W: 22\n",
      "84879: 21\n",
      "21485: 20\n",
      "15056BL: 17\n",
      "22294: 17\n",
      "20679: 17\n",
      "82494L: 16\n",
      "82486: 16\n",
      "15056N: 15\n",
      "82600: 15\n",
      "79323P: 15\n",
      "21121: 14\n",
      "72741: 14\n",
      "21955: 14\n",
      "84406B: 14\n",
      "\n",
      "Cluster value 4\n",
      "85123A: 80\n",
      "21733: 46\n",
      "84378: 44\n",
      "21485: 40\n",
      "84836: 40\n",
      "84029E: 37\n",
      "85099C: 36\n",
      "22114: 36\n",
      "85099B: 34\n",
      "82494L: 34\n",
      "21754: 32\n",
      "20725: 30\n",
      "21755: 30\n",
      "22138: 29\n",
      "22189: 28\n",
      "22173: 27\n",
      "21232: 26\n",
      "22326: 26\n",
      "22087: 26\n",
      "20914: 26\n",
      "\n"
     ]
    }
   ],
   "source": [
    "display_top_values_by_cluster(df_final, 'StockCode')"
   ]
  },
  {
   "attachments": {},
   "cell_type": "markdown",
   "metadata": {},
   "source": [
    "### 7.2.2 Description"
   ]
  },
  {
   "attachments": {},
   "cell_type": "markdown",
   "metadata": {},
   "source": [
    "#### 7.2.2.1 Description display_top_values_by_cluster"
   ]
  },
  {
   "cell_type": "code",
   "execution_count": 289,
   "metadata": {},
   "outputs": [
    {
     "name": "stdout",
     "output_type": "stream",
     "text": [
      "Cluster value 1\n",
      "REX CASH+CARRY JUMBO SHOPPER: 51\n",
      "72 SWEETHEART FAIRY CAKE CASES: 41\n",
      "PACK OF 12 HEARTS DESIGN TISSUES : 31\n",
      "SET OF 3 HEART COOKIE CUTTERS: 29\n",
      "GIN + TONIC DIET METAL SIGN: 28\n",
      "BATHROOM METAL SIGN: 27\n",
      "WHITE HANGING HEART T-LIGHT HOLDER: 26\n",
      "SWALLOWS GREETING CARD: 24\n",
      "TOILET METAL SIGN: 24\n",
      "RED SPOTTY CUP: 23\n",
      "SMALL HEART MEASURING SPOONS: 22\n",
      "SET/20 RED SPOTTY PAPER NAPKINS : 22\n",
      "FUNKY WASHING UP GLOVES ASSORTED: 21\n",
      "SET/10 PINK SPOTTY PARTY CANDLES: 21\n",
      "KITCHEN METAL SIGN: 20\n",
      "SET/10 RED SPOTTY PARTY CANDLES: 20\n",
      "PACK OF 72 RETRO SPOT CAKE CASES: 20\n",
      "ROMANTIC PINKS RIBBONS : 20\n",
      "LAVENDER SCENTED SET/9 T-LIGHTS: 20\n",
      "60 TEATIME FAIRY CAKE CASES: 19\n",
      "\n",
      "Cluster value 2\n",
      "72 SWEETHEART FAIRY CAKE CASES: 49\n",
      "PACK OF 72 RETRO SPOT CAKE CASES: 47\n",
      "HANGING HEART ZINC T-LIGHT HOLDER: 37\n",
      "PINK HEART SHAPE EGG FRYING PAN: 36\n",
      "60 TEATIME FAIRY CAKE CASES: 34\n",
      "RED SPOTS  WRAP : 29\n",
      "PACK OF 60 PINK PAISLEY CAKE CASES: 28\n",
      "DOOR MAT UNION FLAG: 27\n",
      "RED SPOTTY COIR DOORMAT: 25\n",
      "GINGHAM HEART  DOORSTOP RED: 24\n",
      "SET/20 RED SPOTTY PAPER NAPKINS : 24\n",
      "CREAM HEART CARD HOLDER: 23\n",
      "WOOD 2 DRAWER CABINET WHITE FINISH: 23\n",
      "DOORMAT HEARTS: 23\n",
      "CHARLOTTE BAG , PINK/WHITE SPOTS: 22\n",
      "FOOD CONTAINER SET 3 LOVE HEART : 21\n",
      "RED WOOLLY HOTTIE WHITE HEART.: 21\n",
      "SINGLE HEART ZINC T-LIGHT HOLDER: 21\n",
      "SMALL HEART MEASURING SPOONS: 21\n",
      "LUNCHBOX WITH CUTLERY RETROSPOT : 20\n",
      "\n",
      "Cluster value 3\n",
      "WHITE HANGING HEART T-LIGHT HOLDER: 46\n",
      "CREAM HEART CARD HOLDER: 26\n",
      "HEART IVORY TRELLIS SMALL: 26\n",
      "SPRING DEC , HANGING CHICK CREAM: 25\n",
      " WHITE CHERRY LIGHTS: 22\n",
      "FILIGRIS HEART WITH BUTTERFLY: 22\n",
      "ASSORTED COLOUR BIRD ORNAMENT: 21\n",
      "RED SPOT HEART HOT WATER BOTTLE: 20\n",
      "EDWARDIAN PARASOL RED: 17\n",
      "EDWARDIAN PARASOL BLACK: 17\n",
      "HEART FILIGREE DOVE  SMALL: 17\n",
      "WOODEN FRAME ANTIQUE WHITE : 16\n",
      "WOOD S/3 CABINET ANT WHITE FINISH: 16\n",
      "PINK CHERRY LIGHTS: 15\n",
      "NO SINGING METAL SIGN: 15\n",
      "EDWARDIAN PARASOL NATURAL: 15\n",
      "RED HANGING HEART T-LIGHT HOLDER: 14\n",
      "SET/10 RED SPOTTY PARTY CANDLES: 14\n",
      "CREAM CUPID HEARTS COAT HANGER: 14\n",
      "GRAND CHOCOLATECANDLE: 14\n",
      "\n",
      "Cluster value 4\n",
      "WHITE HANGING HEART T-LIGHT HOLDER: 80\n",
      "RED HANGING HEART T-LIGHT HOLDER: 46\n",
      "SET OF 3 HEART COOKIE CUTTERS: 44\n",
      "ZINC METAL HEART DECORATION: 40\n",
      "RED SPOT HEART HOT WATER BOTTLE: 40\n",
      "RED WOOLLY HOTTIE WHITE HEART.: 37\n",
      "JUMBO  BAG BAROQUE BLACK WHITE: 36\n",
      "HOT WATER BOTTLE TEA AND SYMPATHY: 36\n",
      "WOODEN FRAME ANTIQUE WHITE : 34\n",
      "JUMBO BAG RED WHITE SPOTTY : 34\n",
      "HOME BUILDING BLOCK WORD: 32\n",
      "LUNCH BAG RED SPOTTY: 30\n",
      "LOVE BUILDING BLOCK WORD: 30\n",
      "BAKING SET 9 PIECE RETROSPOT : 29\n",
      "CREAM HEART CARD HOLDER: 28\n",
      "METAL 4 HOOK HANGER FRENCH CHATEAU: 27\n",
      "SET/5 RED SPOTTY LID GLASS BOWLS: 26\n",
      "STRAWBERRY CERAMIC TRINKET BOX: 26\n",
      "PAPER BUNTING WHITE LACE: 26\n",
      "ROUND SNACK BOXES SET OF4 WOODLAND : 25\n",
      "\n"
     ]
    }
   ],
   "source": [
    "display_top_values_by_cluster(df_final, 'Description')"
   ]
  },
  {
   "attachments": {},
   "cell_type": "markdown",
   "metadata": {},
   "source": [
    "#### 7.2.2.2 Description get_top_ngrams by 2 words"
   ]
  },
  {
   "cell_type": "code",
   "execution_count": 290,
   "metadata": {},
   "outputs": [
    {
     "name": "stdout",
     "output_type": "stream",
     "text": [
      "Cluster value 1\n",
      "metal sign: 334\n",
      "red spotty: 250\n",
      "birthday card: 170\n",
      "hot water: 168\n",
      "water bottle: 168\n",
      "cake cases: 144\n",
      "love heart: 137\n",
      "fairy cake: 125\n",
      "t-light holder: 113\n",
      "retro spot: 106\n",
      "door mat: 105\n",
      "greeting card: 94\n",
      "set 3: 77\n",
      "pink heart: 74\n",
      "heart shape: 74\n",
      "union jack: 73\n",
      "paper napkins: 67\n",
      "spotty cup: 64\n",
      "hanging heart: 64\n",
      "jumbo bag: 63\n",
      "\n",
      "Cluster value 2\n",
      "red spotty: 257\n",
      "cake cases: 221\n",
      "t-light holder: 169\n",
      "fairy cake: 151\n",
      "door mat: 127\n",
      "metal sign: 121\n",
      "retro spot: 98\n",
      "hanging heart: 89\n",
      "charlotte bag: 86\n",
      "love heart: 85\n",
      "hot water: 81\n",
      "water bottle: 81\n",
      "heart shape: 75\n",
      "paper napkins: 69\n",
      "pack 60: 62\n",
      "gift wrap: 61\n",
      "pack 72: 60\n",
      "pink heart: 60\n",
      "spots wrap: 60\n",
      "cases pack: 58\n",
      "\n",
      "Cluster value 3\n",
      "t-light holder: 73\n",
      "metal sign: 70\n",
      "red spotty: 66\n",
      "hanging heart: 63\n",
      "heart t-light: 60\n",
      "cherry lights: 58\n",
      "hot water: 55\n",
      "water bottle: 55\n",
      "edwardian parasol: 49\n",
      "white hanging: 46\n",
      "retro spot: 45\n",
      ", hanging: 41\n",
      "spring dec: 36\n",
      "dec ,: 36\n",
      "hanging chick: 36\n",
      "spotty party: 35\n",
      "party candles: 35\n",
      "door mat: 35\n",
      "white finish: 29\n",
      "assorted colour: 28\n",
      "\n",
      "Cluster value 4\n",
      "red spotty: 203\n",
      "t-light holder: 199\n",
      "hot water: 184\n",
      "water bottle: 184\n",
      "retro spot: 171\n",
      "hanging heart: 152\n",
      "jumbo bag: 147\n",
      "heart t-light: 134\n",
      "metal sign: 92\n",
      "set 3: 91\n",
      "lunch bag: 83\n",
      "white hanging: 80\n",
      "building block: 74\n",
      "block word: 74\n",
      "red spot: 68\n",
      "bag red: 67\n",
      "3 piece: 65\n",
      "piece mini: 65\n",
      "mini dots: 65\n",
      "dots cutlery: 65\n",
      "\n"
     ]
    }
   ],
   "source": [
    "get_top_ngrams(df_final, 'Description', 'Cluster', 2, {0: 1, 1: 2, 2: 3, 3: 4})"
   ]
  },
  {
   "attachments": {},
   "cell_type": "markdown",
   "metadata": {},
   "source": [
    "#### 7.2.2.3 Description get_top_ngrams by 3 words"
   ]
  },
  {
   "cell_type": "code",
   "execution_count": 291,
   "metadata": {},
   "outputs": [
    {
     "name": "stdout",
     "output_type": "stream",
     "text": [
      "Cluster value 1\n",
      "hot water bottle: 168\n",
      "fairy cake cases: 74\n",
      "spotty party candles: 63\n",
      "heart t-light holder: 58\n",
      "rex cash+carry jumbo: 51\n",
      "cash+carry jumbo shopper: 51\n",
      "hanging heart t-light: 44\n",
      "scented set/9 t-lights: 43\n",
      "72 sweetheart fairy: 41\n",
      "sweetheart fairy cake: 41\n",
      "cake cases pack: 41\n",
      "heart measuring spoons: 40\n",
      "key fob ,: 38\n",
      "red spotty paper: 37\n",
      "felt egg cosy: 35\n",
      "round snack boxes: 34\n",
      "snack boxes set: 34\n",
      "home sweet home: 34\n",
      "blue hot water: 33\n",
      "building block word: 33\n",
      "\n",
      "Cluster value 2\n",
      "fairy cake cases: 99\n",
      "hot water bottle: 81\n",
      "cake cases pack: 58\n",
      "heart zinc t-light: 58\n",
      "zinc t-light holder: 58\n",
      "72 retro spot: 50\n",
      "72 sweetheart fairy: 49\n",
      "sweetheart fairy cake: 49\n",
      "pack 72 retro: 47\n",
      "retro spot cake: 47\n",
      "spot cake cases: 47\n",
      "hanging heart zinc: 37\n",
      "pink heart shape: 37\n",
      "charlotte bag ,: 37\n",
      "heart shape egg: 36\n",
      "shape egg frying: 36\n",
      "egg frying pan: 36\n",
      "red spotty paper: 36\n",
      "building block word: 36\n",
      "60 teatime fairy: 34\n",
      "\n",
      "Cluster value 3\n",
      "hanging heart t-light: 60\n",
      "heart t-light holder: 60\n",
      "hot water bottle: 55\n",
      "white hanging heart: 46\n",
      "spring dec ,: 36\n",
      "dec , hanging: 36\n",
      ", hanging chick: 36\n",
      "spotty party candles: 35\n",
      "pink cherry lights: 27\n",
      "heart ivory trellis: 26\n",
      "ivory trellis small: 26\n",
      "cream heart card: 26\n",
      "heart card holder: 26\n",
      "hanging chick cream: 25\n",
      "filigris heart butterfly: 22\n",
      "white cherry lights: 22\n",
      "assorted colour bird: 21\n",
      "colour bird ornament: 21\n",
      "red spot heart: 20\n",
      "spot heart hot: 20\n",
      "\n",
      "Cluster value 4\n",
      "hot water bottle: 184\n",
      "heart t-light holder: 134\n",
      "hanging heart t-light: 126\n",
      "white hanging heart: 80\n",
      "building block word: 74\n",
      "3 piece mini: 65\n",
      "piece mini dots: 65\n",
      "mini dots cutlery: 65\n",
      "dots cutlery set: 65\n",
      "hanger , magic: 49\n",
      "red hanging heart: 46\n",
      "round snack boxes: 45\n",
      "set 3 heart: 44\n",
      "3 heart cookie: 44\n",
      "heart cookie cutters: 44\n",
      "snack boxes set: 42\n",
      "heart hot water: 41\n",
      "zinc metal heart: 40\n",
      "metal heart decoration: 40\n",
      "red spot heart: 40\n",
      "\n"
     ]
    }
   ],
   "source": [
    "get_top_ngrams(df_final, 'Description', 'Cluster', 3, {0: 1, 1: 2, 2: 3, 3: 4})"
   ]
  },
  {
   "attachments": {},
   "cell_type": "markdown",
   "metadata": {},
   "source": [
    "#### 7.2.2.4 Description get_top_ngrams by 4 words"
   ]
  },
  {
   "cell_type": "code",
   "execution_count": 292,
   "metadata": {},
   "outputs": [
    {
     "name": "stdout",
     "output_type": "stream",
     "text": [
      "Cluster value 1\n",
      "rex cash+carry jumbo shopper: 51\n",
      "hanging heart t-light holder: 44\n",
      "72 sweetheart fairy cake: 41\n",
      "sweetheart fairy cake cases: 41\n",
      "round snack boxes set: 34\n",
      "blue hot water bottle: 33\n",
      "pack 12 hearts design: 31\n",
      "12 hearts design tissues: 31\n",
      "felt easter egg basket: 30\n",
      "set 3 heart cookie: 29\n",
      "3 heart cookie cutters: 29\n",
      "gin + tonic diet: 28\n",
      "+ tonic diet metal: 28\n",
      "tonic diet metal sign: 28\n",
      "spring dec , hanging: 28\n",
      "dec , hanging chick: 28\n",
      "spotty party candles set/10: 28\n",
      "mini cake stand hanging: 27\n",
      "white hanging heart t-light: 26\n",
      "rose peg place settings: 25\n",
      "\n",
      "Cluster value 2\n",
      "heart zinc t-light holder: 58\n",
      "72 sweetheart fairy cake: 49\n",
      "sweetheart fairy cake cases: 49\n",
      "pack 72 retro spot: 47\n",
      "72 retro spot cake: 47\n",
      "retro spot cake cases: 47\n",
      "hanging heart zinc t-light: 37\n",
      "pink heart shape egg: 36\n",
      "heart shape egg frying: 36\n",
      "shape egg frying pan: 36\n",
      "60 teatime fairy cake: 34\n",
      "teatime fairy cake cases: 34\n",
      "cake cases pack 60: 33\n",
      "love heart shape cup: 31\n",
      "hanging heart t-light holder: 31\n",
      "party bag + sticker: 29\n",
      "bag + sticker set: 29\n",
      "pack 60 pink paisley: 28\n",
      "60 pink paisley cake: 28\n",
      "pink paisley cake cases: 28\n",
      "\n",
      "Cluster value 3\n",
      "hanging heart t-light holder: 60\n",
      "white hanging heart t-light: 46\n",
      "spring dec , hanging: 36\n",
      "dec , hanging chick: 36\n",
      "heart ivory trellis small: 26\n",
      "cream heart card holder: 26\n",
      ", hanging chick cream: 25\n",
      "assorted colour bird ornament: 21\n",
      "red spot heart hot: 20\n",
      "spot heart hot water: 20\n",
      "heart hot water bottle: 20\n",
      "spotty party candles set/10: 19\n",
      "holder spring dec ,: 18\n",
      "heart filigree dove small: 17\n",
      "heart card holder spring: 17\n",
      "card holder spring dec: 17\n",
      "scent candle jewelled box: 16\n",
      "wooden frame antique white: 16\n",
      "wood s/3 cabinet ant: 16\n",
      "s/3 cabinet ant white: 16\n",
      "\n",
      "Cluster value 4\n",
      "hanging heart t-light holder: 126\n",
      "white hanging heart t-light: 80\n",
      "3 piece mini dots: 65\n",
      "piece mini dots cutlery: 65\n",
      "mini dots cutlery set: 65\n",
      "red hanging heart t-light: 46\n",
      "set 3 heart cookie: 44\n",
      "3 heart cookie cutters: 44\n",
      "round snack boxes set: 42\n",
      "heart hot water bottle: 41\n",
      "zinc metal heart decoration: 40\n",
      "red spot heart hot: 40\n",
      "spot heart hot water: 40\n",
      "hot water bottle tea: 37\n",
      "red woolly hottie white: 37\n",
      "woolly hottie white heart: 37\n",
      "hottie white heart .: 37\n",
      "water bottle tea sympathy: 36\n",
      "jumbo bag baroque black: 36\n",
      "bag baroque black white: 36\n",
      "\n"
     ]
    }
   ],
   "source": [
    "get_top_ngrams(df_final, 'Description', 'Cluster', 4, {0: 1, 1: 2, 2: 3, 3: 4})"
   ]
  },
  {
   "attachments": {},
   "cell_type": "markdown",
   "metadata": {},
   "source": [
    "#### 7.2.2.5 Description get_top_ngrams by 5 words"
   ]
  },
  {
   "cell_type": "code",
   "execution_count": 293,
   "metadata": {},
   "outputs": [
    {
     "name": "stdout",
     "output_type": "stream",
     "text": [
      "Cluster value 1\n",
      "72 sweetheart fairy cake cases: 41\n",
      "pack 12 hearts design tissues: 31\n",
      "set 3 heart cookie cutters: 29\n",
      "gin + tonic diet metal: 28\n",
      "+ tonic diet metal sign: 28\n",
      "spring dec , hanging chick: 28\n",
      "white hanging heart t-light holder: 26\n",
      "round snack boxes set 4: 23\n",
      "set/20 red spotty paper napkins: 22\n",
      "set/10 pink spotty party candles: 21\n",
      "metal sign bathroom metal sign: 20\n",
      "pack 72 retro spot cake: 20\n",
      "72 retro spot cake cases: 20\n",
      "party bag + sticker set: 20\n",
      "set/10 red spotty party candles: 20\n",
      "elephant , birthday card ,: 19\n",
      "retro spot small milk jug: 19\n",
      "60 teatime fairy cake cases: 19\n",
      "please one person metal sign: 19\n",
      "set 72 pink heart paper: 18\n",
      "\n",
      "Cluster value 2\n",
      "72 sweetheart fairy cake cases: 49\n",
      "pack 72 retro spot cake: 47\n",
      "72 retro spot cake cases: 47\n",
      "hanging heart zinc t-light holder: 37\n",
      "pink heart shape egg frying: 36\n",
      "heart shape egg frying pan: 36\n",
      "60 teatime fairy cake cases: 34\n",
      "party bag + sticker set: 29\n",
      "pack 60 pink paisley cake: 28\n",
      "60 pink paisley cake cases: 28\n",
      "set/20 red spotty paper napkins: 24\n",
      "wood 2 drawer cabinet white: 23\n",
      "2 drawer cabinet white finish: 23\n",
      "charlotte bag , pink/white spots: 22\n",
      "single heart zinc t-light holder: 21\n",
      "red woolly hottie white heart: 21\n",
      "woolly hottie white heart .: 21\n",
      "food container set 3 love: 21\n",
      "container set 3 love heart: 21\n",
      "please one person metal sign: 21\n",
      "\n",
      "Cluster value 3\n",
      "white hanging heart t-light holder: 46\n",
      "spring dec , hanging chick: 36\n",
      "dec , hanging chick cream: 25\n",
      "red spot heart hot water: 20\n",
      "spot heart hot water bottle: 20\n",
      "holder spring dec , hanging: 18\n",
      "cream heart card holder spring: 17\n",
      "heart card holder spring dec: 17\n",
      "card holder spring dec ,: 17\n",
      "wood s/3 cabinet ant white: 16\n",
      "s/3 cabinet ant white finish: 16\n",
      "set/10 red spotty party candles: 14\n",
      "red hanging heart t-light holder: 14\n",
      "cream cupid hearts coat hanger: 14\n",
      "edwardian parasol black edwardian parasol: 13\n",
      "jumbo bag red white spotty: 12\n",
      "holder white hanging heart t-light: 12\n",
      "edwardian parasol red cream heart: 12\n",
      "parasol red cream heart card: 12\n",
      "red cream heart card holder: 12\n",
      "\n",
      "Cluster value 4\n",
      "white hanging heart t-light holder: 80\n",
      "3 piece mini dots cutlery: 65\n",
      "piece mini dots cutlery set: 65\n",
      "red hanging heart t-light holder: 46\n",
      "set 3 heart cookie cutters: 44\n",
      "red spot heart hot water: 40\n",
      "spot heart hot water bottle: 40\n",
      "red woolly hottie white heart: 37\n",
      "woolly hottie white heart .: 37\n",
      "hot water bottle tea sympathy: 36\n",
      "jumbo bag baroque black white: 36\n",
      "jumbo bag red white spotty: 34\n",
      "baking set 9 piece retrospot: 29\n",
      "metal 4 hook hanger french: 27\n",
      "4 hook hanger french chateau: 27\n",
      "hook , 5 hanger ,: 26\n",
      ", 5 hanger , magic: 26\n",
      "5 hanger , magic toadstool: 26\n",
      "set/5 red spotty lid glass: 26\n",
      "red spotty lid glass bowls: 26\n",
      "\n"
     ]
    }
   ],
   "source": [
    "get_top_ngrams(df_final, 'Description', 'Cluster', 5, {0: 1, 1: 2, 2: 3, 3: 4})"
   ]
  },
  {
   "attachments": {},
   "cell_type": "markdown",
   "metadata": {},
   "source": [
    "#### 7.2.2.6 Description get_top_ngrams by 6 words"
   ]
  },
  {
   "cell_type": "code",
   "execution_count": 294,
   "metadata": {},
   "outputs": [
    {
     "name": "stdout",
     "output_type": "stream",
     "text": [
      "Cluster value 1\n",
      "gin + tonic diet metal sign: 28\n",
      "pack 72 retro spot cake cases: 20\n",
      "set 72 pink heart paper doilies: 18\n",
      "food container set 3 love heart: 18\n",
      "pink heart shape egg frying pan: 18\n",
      "red woolly hottie white heart .: 17\n",
      "sign gin + tonic diet metal: 16\n",
      "round snack boxes set 4 fruits: 15\n",
      "set/5 red spotty lid glass bowls: 15\n",
      "metal sign gin + tonic diet: 15\n",
      "frosted box 9 white t-light candles: 15\n",
      "red spot heart hot water bottle: 13\n",
      "hook , 5 hanger , magic: 13\n",
      ", 5 hanger , magic toadstool: 13\n",
      "charlie + lola red hot water: 12\n",
      "+ lola red hot water bottle: 12\n",
      "card elephant , birthday card ,: 12\n",
      "set/10 pink spotty party candles set/10: 12\n",
      "cake cases pack 72 retro spot: 12\n",
      "cases pack 72 retro spot cake: 12\n",
      "\n",
      "Cluster value 2\n",
      "pack 72 retro spot cake cases: 47\n",
      "pink heart shape egg frying pan: 36\n",
      "pack 60 pink paisley cake cases: 28\n",
      "wood 2 drawer cabinet white finish: 23\n",
      "red woolly hottie white heart .: 21\n",
      "food container set 3 love heart: 21\n",
      "3 piece mini dots cutlery set: 18\n",
      "hook , 1 hanger , magic: 17\n",
      ", 1 hanger , magic garden: 17\n",
      "pack 20 fairy cake paper napkins: 15\n",
      "cake cases pack 72 retro spot: 15\n",
      "cases pack 72 retro spot cake: 15\n",
      "fancy font home sweet home doormat: 15\n",
      "cake cases 60 teatime fairy cake: 15\n",
      "cases 60 teatime fairy cake cases: 15\n",
      "cake cases 72 sweetheart fairy cake: 13\n",
      "cases 72 sweetheart fairy cake cases: 13\n",
      "72 retro spot cake cases pack: 12\n",
      "pack 60 dinosaur cake cases pack: 12\n",
      "cake cases pack 60 dinosaur cake: 12\n",
      "\n",
      "Cluster value 3\n",
      "spring dec , hanging chick cream: 25\n",
      "red spot heart hot water bottle: 20\n",
      "holder spring dec , hanging chick: 18\n",
      "cream heart card holder spring dec: 17\n",
      "heart card holder spring dec ,: 17\n",
      "card holder spring dec , hanging: 17\n",
      "wood s/3 cabinet ant white finish: 16\n",
      "holder white hanging heart t-light holder: 12\n",
      "edwardian parasol red cream heart card: 12\n",
      "parasol red cream heart card holder: 12\n",
      "t-light holder white hanging heart t-light: 11\n",
      "red cream heart card holder spring: 11\n",
      "red woolly hottie white heart .: 10\n",
      "hanging heart t-light holder white hanging: 10\n",
      "heart t-light holder white hanging heart: 10\n",
      "cherry lights light pink cherry lights: 9\n",
      "gin + tonic diet metal sign: 9\n",
      "set/10 red spotty party candles set/10: 8\n",
      "spotty party candles set/10 pink spotty: 8\n",
      "party candles set/10 pink spotty party: 8\n",
      "\n",
      "Cluster value 4\n",
      "3 piece mini dots cutlery set: 65\n",
      "red spot heart hot water bottle: 40\n",
      "red woolly hottie white heart .: 37\n",
      "metal 4 hook hanger french chateau: 27\n",
      "hook , 5 hanger , magic: 26\n",
      ", 5 hanger , magic toadstool: 26\n",
      "set/5 red spotty lid glass bowls: 26\n",
      "holder white hanging heart t-light holder: 26\n",
      "red 3 piece mini dots cutlery: 25\n",
      "round snack boxes set of4 woodland: 25\n",
      "t-light holder white hanging heart t-light: 25\n",
      "heart t-light holder white hanging heart: 24\n",
      "red hanging heart t-light holder white: 23\n",
      "hanging heart t-light holder white hanging: 23\n",
      "hook , 3 hanger , magic: 22\n",
      ", 3 hanger , magic garden: 22\n",
      "retro spot tea set ceramic 11: 22\n",
      "spot tea set ceramic 11 pc: 22\n",
      "wood 2 drawer cabinet white finish: 21\n",
      "shoulder bag jumbo bag baroque black: 19\n",
      "\n"
     ]
    }
   ],
   "source": [
    "get_top_ngrams(df_final, 'Description', 'Cluster', 6, {0: 1, 1: 2, 2: 3, 3: 4})"
   ]
  },
  {
   "attachments": {},
   "cell_type": "markdown",
   "metadata": {},
   "source": [
    "#### 7.2.2.7 Description conclusion"
   ]
  },
  {
   "attachments": {},
   "cell_type": "markdown",
   "metadata": {},
   "source": [
    "From this observation there are significant product that cluster 1 that is baking tools. Cluster 2 mostly buy baking tools and interior furniture. Cluster 3 mostly buy interior furniture. And cluster 4 mostly buy interior furniture, cutlery, glassware."
   ]
  },
  {
   "attachments": {},
   "cell_type": "markdown",
   "metadata": {},
   "source": [
    "### 7.2.3 Quantity"
   ]
  },
  {
   "cell_type": "code",
   "execution_count": 302,
   "metadata": {},
   "outputs": [
    {
     "data": {
      "image/png": "[encoded data removed]",
      "text/plain": [
       "<Figure size 1440x360 with 4 Axes>"
      ]
     },
     "metadata": {
      "needs_background": "light"
     },
     "output_type": "display_data"
    }
   ],
   "source": [
    "plot_cluster_histogram(df_final, 'Quantity', [0, 1, 2, 3])"
   ]
  },
  {
   "attachments": {},
   "cell_type": "markdown",
   "metadata": {},
   "source": [
    "it is shown that cluster 2 and 4 have 2 separate group, the one that only buy in small quantity and the one that but in large quantity. Cluster 3 are balanced eventough mostly buy in small quantity. Cluster 1 has the fewest quantity."
   ]
  },
  {
   "attachments": {},
   "cell_type": "markdown",
   "metadata": {},
   "source": [
    "### 7.2.4 InvoiceDate"
   ]
  },
  {
   "cell_type": "code",
   "execution_count": 303,
   "metadata": {},
   "outputs": [
    {
     "data": {
      "image/png": "[encoded data removed]",
      "text/plain": [
       "<Figure size 1440x360 with 4 Axes>"
      ]
     },
     "metadata": {
      "needs_background": "light"
     },
     "output_type": "display_data"
    }
   ],
   "source": [
    "plot_cluster_histogram(df_final, 'InvoiceDate', [0, 1, 2, 3])"
   ]
  },
  {
   "attachments": {},
   "cell_type": "markdown",
   "metadata": {},
   "source": [
    "Cluster 3 has more balance transaction date compared into other clusters."
   ]
  },
  {
   "attachments": {},
   "cell_type": "markdown",
   "metadata": {},
   "source": [
    "### 7.2.5 Price"
   ]
  },
  {
   "cell_type": "code",
   "execution_count": 297,
   "metadata": {},
   "outputs": [
    {
     "data": {
      "image/png": "[encoded data removed]",
      "text/plain": [
       "<Figure size 1440x360 with 4 Axes>"
      ]
     },
     "metadata": {
      "needs_background": "light"
     },
     "output_type": "display_data"
    }
   ],
   "source": [
    "plot_cluster_histogram(df_final, 'Price', [0, 1, 2, 3])"
   ]
  },
  {
   "attachments": {},
   "cell_type": "markdown",
   "metadata": {},
   "source": [
    "There are no significant difference for each clusters."
   ]
  },
  {
   "attachments": {},
   "cell_type": "markdown",
   "metadata": {},
   "source": [
    "### 7.2.6 Country"
   ]
  },
  {
   "cell_type": "code",
   "execution_count": 304,
   "metadata": {},
   "outputs": [
    {
     "name": "stdout",
     "output_type": "stream",
     "text": [
      "Cluster value 1\n",
      "United Kingdom: 6195\n",
      "Spain: 35\n",
      "Germany: 24\n",
      "France: 16\n",
      "USA: 15\n",
      "Unspecified: 11\n",
      "Greece: 6\n",
      "Netherlands: 3\n",
      "Sweden: 3\n",
      "Finland: 3\n",
      "Belgium: 1\n",
      "Channel Islands: 1\n",
      "Japan: 1\n",
      "\n",
      "Cluster value 2\n",
      "United Kingdom: 4067\n",
      "Germany: 165\n",
      "France: 87\n",
      "Belgium: 36\n",
      "Spain: 29\n",
      "USA: 28\n",
      "Greece: 18\n",
      "Unspecified: 12\n",
      "Finland: 8\n",
      "EIRE: 5\n",
      "Denmark: 4\n",
      "Channel Islands: 4\n",
      "Netherlands: 3\n",
      "Cyprus: 2\n",
      "\n",
      "Cluster value 3\n",
      "United Kingdom: 1311\n",
      "Germany: 48\n",
      "France: 32\n",
      "USA: 12\n",
      "Spain: 12\n",
      "Greece: 9\n",
      "Netherlands: 8\n",
      "Unspecified: 8\n",
      "Belgium: 8\n",
      "Denmark: 6\n",
      "EIRE: 5\n",
      "Sweden: 4\n",
      "Channel Islands: 4\n",
      "Finland: 4\n",
      "Cyprus: 1\n",
      "\n",
      "Cluster value 4\n",
      "United Kingdom: 3877\n",
      "Germany: 231\n",
      "France: 110\n",
      "Belgium: 34\n",
      "USA: 33\n",
      "Greece: 28\n",
      "Spain: 25\n",
      "Unspecified: 24\n",
      "Finland: 13\n",
      "EIRE: 13\n",
      "Netherlands: 9\n",
      "Denmark: 7\n",
      "Channel Islands: 4\n",
      "Sweden: 1\n",
      "Cyprus: 1\n",
      "\n"
     ]
    }
   ],
   "source": [
    "display_top_values_by_cluster(df_final, 'Country')"
   ]
  },
  {
   "attachments": {},
   "cell_type": "markdown",
   "metadata": {},
   "source": [
    "All clusters have a balanced country distribution, even though there might be difference, it is not significant enough."
   ]
  },
  {
   "attachments": {},
   "cell_type": "markdown",
   "metadata": {},
   "source": [
    "### 7.2.6 Retention"
   ]
  },
  {
   "cell_type": "code",
   "execution_count": 305,
   "metadata": {},
   "outputs": [
    {
     "data": {
      "image/png": "[encoded data removed]",
      "text/plain": [
       "<Figure size 1440x360 with 4 Axes>"
      ]
     },
     "metadata": {
      "needs_background": "light"
     },
     "output_type": "display_data"
    }
   ],
   "source": [
    "plot_cluster_histogram(df_final, 'Retention', [0, 1, 2, 3])"
   ]
  },
  {
   "attachments": {},
   "cell_type": "markdown",
   "metadata": {},
   "source": [
    "Eventough cluster 2 have smaller Retention, it is not significant."
   ]
  },
  {
   "attachments": {},
   "cell_type": "markdown",
   "metadata": {},
   "source": [
    "### 7.2.7 TotalPrice"
   ]
  },
  {
   "cell_type": "code",
   "execution_count": 306,
   "metadata": {},
   "outputs": [
    {
     "data": {
      "image/png": "[encoded data removed]",
      "text/plain": [
       "<Figure size 1440x360 with 4 Axes>"
      ]
     },
     "metadata": {
      "needs_background": "light"
     },
     "output_type": "display_data"
    }
   ],
   "source": [
    "plot_cluster_histogram(df_final, 'TotalPrice', [0, 1, 2, 3])"
   ]
  },
  {
   "attachments": {},
   "cell_type": "markdown",
   "metadata": {},
   "source": [
    "From this observation, cluster 2 and 3 have the most total price compared the other clusters. Cluster 3 have the highest total price if we look at the range. Cluster 4 are in the middle. And cluster 1 have the least total price."
   ]
  },
  {
   "attachments": {},
   "cell_type": "markdown",
   "metadata": {},
   "source": [
    "## 8.2 EDA Summary"
   ]
  },
  {
   "attachments": {},
   "cell_type": "markdown",
   "metadata": {},
   "source": [
    "### 8.2.1 Cluster Segmentation"
   ]
  },
  {
   "attachments": {},
   "cell_type": "markdown",
   "metadata": {},
   "source": [
    "#### 8.2.1.1 Cluster 1: High-turnover Customers"
   ]
  },
  {
   "attachments": {},
   "cell_type": "markdown",
   "metadata": {},
   "source": [
    "This cluster can be categorized as customer that bought mostly product that are related to baking equipment. it has smaller quantity per buy and having the least total purchase. This cluster also among the lowest in Retention in one month.but its the largest customer compared by other cluster. I named it High-turnover Customer for this cluster."
   ]
  },
  {
   "attachments": {},
   "cell_type": "markdown",
   "metadata": {},
   "source": [
    "#### 8.2.1.2 Cluster 2: Attached Customers"
   ]
  },
  {
   "attachments": {},
   "cell_type": "markdown",
   "metadata": {},
   "source": [
    "This cluster can be categorized as a customers that mostly bought product that are related to baking equipment and interior furniture. They buy the product a little bit more than cluster 1. They also have a Retention that are better than cluster 1. and second highest in total price. I named it Attached customer for this customer based on the likeness with cluster 1 but have slightly more quantity per product, purchasing, and Retention. It also the second of highest customer, second to cluster 1."
   ]
  },
  {
   "cell_type": "code",
   "execution_count": 311,
   "metadata": {},
   "outputs": [
    {
     "name": "stdout",
     "output_type": "stream",
     "text": [
      "Cluster 1    6314\n",
      "Cluster 2    4468\n",
      "Cluster 3    1472\n",
      "Cluster 4    4410\n",
      "Name: Cluster, dtype: int64\n"
     ]
    }
   ],
   "source": [
    "value_counts = df_final['Cluster'].value_counts()\n",
    "new_labels = {0: 'Cluster 1', 1: 'Cluster 2', 2: 'Cluster 3', 3: 'Cluster 4'}\n",
    "value_counts_renamed = value_counts.rename(index=new_labels)\n",
    "value_counts_sorted = value_counts_renamed.sort_values(ascending=False)\n",
    "value_counts_sorted = value_counts_sorted.sort_index()\n",
    "print(value_counts_sorted)"
   ]
  },
  {
   "attachments": {},
   "cell_type": "markdown",
   "metadata": {},
   "source": [
    "#### 8.2.1.3 Cluster 3: Interior Furniture Customers"
   ]
  },
  {
   "attachments": {},
   "cell_type": "markdown",
   "metadata": {},
   "source": [
    "This cluster mostly buy interior furniture product. it is the most customer that most likely to shop again in 1 month. They have diverse purchasing and quantity habit. I named this cluster as Interior Furniture Customers."
   ]
  },
  {
   "attachments": {},
   "cell_type": "markdown",
   "metadata": {},
   "source": [
    "#### 8.2.1.4 Cluster 4: Cutlery & glassware Customers"
   ]
  },
  {
   "attachments": {},
   "cell_type": "markdown",
   "metadata": {},
   "source": [
    "This last cluster mostly buy cutlery and glassware. it is the second most low on Retention and quantity. They are in the middle in Total Price. I named it Cutlery and glassware customer."
   ]
  },
  {
   "attachments": {},
   "cell_type": "markdown",
   "metadata": {},
   "source": [
    "### 8.2.2 Suggestion"
   ]
  },
  {
   "attachments": {},
   "cell_type": "markdown",
   "metadata": {},
   "source": [
    "#### 8.2.2.1 Better analysis"
   ]
  },
  {
   "attachments": {},
   "cell_type": "markdown",
   "metadata": {},
   "source": [
    "1. There are missing values (In 'CustomerID' and 'Description'column) that have significant presence in the data from United Kingdom. It is considereble to observe the system that caused this. The missing value can be seen in this code below."
   ]
  },
  {
   "cell_type": "code",
   "execution_count": 313,
   "metadata": {},
   "outputs": [
    {
     "name": "stdout",
     "output_type": "stream",
     "text": [
      "          Country  Count\n",
      "0  United Kingdom   9113\n",
      "1            EIRE      3\n"
     ]
    }
   ],
   "source": [
    "counts = df_fltrd.loc[df_fltrd['Customer ID'] == 'Unknown', 'Country'].value_counts().reset_index()\n",
    "counts.columns = ['Country', 'Count']\n",
    "\n",
    "print(counts)"
   ]
  },
  {
   "attachments": {},
   "cell_type": "markdown",
   "metadata": {},
   "source": [
    "2. Using different evaluation matric can improve better decision to choose cluster quantity.\n",
    "3. Using different K-Prototypes different parameter also could improve clustering.\n",
    "4. Using a larger data such as larger datetime could be beneficial for clustering accuracy. (This dataset is just from start of January 2010 into 1st February to cut loading time in clustering)"
   ]
  },
  {
   "attachments": {},
   "cell_type": "markdown",
   "metadata": {},
   "source": [
    "#### 8.2.2.2 Marketing opportunity"
   ]
  },
  {
   "attachments": {},
   "cell_type": "markdown",
   "metadata": {},
   "source": [
    "1. From this clustering algorithm, there are 4 customer segment.\n",
    "2. Attached customers and Interior Furniture Customers are the most likely to repeat the transactions, it is seen by their high Retention compared by other segments. It can be considerable to strenghten that segments by analyzing more about this segment, making a brand awareness such as by advertising or market positioning, or making a product that this customers segments wants.\n",
    "3. High-turnover Customers are still the largest customers. There can be made anaylsis to know causation of low Retention in this segments. The High-turnover customer segment analysis can help marketers to avoid customers loss or what strategy to avoid tevenue loss caused by low Retention."
   ]
  },
  {
   "attachments": {},
   "cell_type": "markdown",
   "metadata": {},
   "source": [
    "#### 8.2.2.3 Management consideration"
   ]
  },
  {
   "attachments": {},
   "cell_type": "markdown",
   "metadata": {},
   "source": [
    "1. This segmentation can benefit management decision about management strategy. Such as SWOT analysis or business process.\n",
    "2. If the brand want to focus into more segments that have high Retention (such as Attached Customers and Interior Furniture segments), it can benefit supply chain to make it more lean such as by minimizing warehousing and transportation costs."
   ]
  },
  {
   "attachments": {},
   "cell_type": "markdown",
   "metadata": {},
   "source": [
    "### 8.2.3 Overall conclusion"
   ]
  },
  {
   "attachments": {},
   "cell_type": "markdown",
   "metadata": {},
   "source": [
    "The clustering algorithm have made 4 clusters that we named it each into customers segments. Despite that there are several suggestion to make the algorithm and analysis better for management decisions. The suggestion is for other coworker that works in data, Marketing departments, and management departments."
   ]
  },
  {
   "attachments": {},
   "cell_type": "markdown",
   "metadata": {},
   "source": [
    "<center>End of section 8</center>\n",
    "<hr>\n",
    "<hr>"
   ]
  },
  {
   "attachments": {},
   "cell_type": "markdown",
   "metadata": {},
   "source": [
    "# 9. Conclusion"
   ]
  },
  {
   "attachments": {},
   "cell_type": "markdown",
   "metadata": {},
   "source": [
    "This algorithm have been made to find customer segmentation. The dataset is gained from keggle. The dataset is about online retail sales. The algorithm used is K-Prototypes because it can processed both categorical and numerical data. The output of the algorithm is 4 segmentations that I have been analyze to know which characteristic for each 4 segments. Finally, I add severall suggestion to made a better analysis and marketing/management considerations for this segments."
   ]
  },
  {
   "attachments": {},
   "cell_type": "markdown",
   "metadata": {},
   "source": [
    "<center>End of this file</center>\n",
    "<hr>\n",
    "<hr>"
   ]
  }
 ],
 "metadata": {
  "kernelspec": {
   "display_name": "base",
   "language": "python",
   "name": "python3"
  },
  "language_info": {
   "codemirror_mode": {
    "name": "ipython",
    "version": 3
   },
   "file_extension": ".py",
   "mimetype": "text/x-python",
   "name": "python",
   "nbconvert_exporter": "python",
   "pygments_lexer": "ipython3",
   "version": "3.9.7"
  },
  "orig_nbformat": 4
 },
 "nbformat": 4,
 "nbformat_minor": 2
}
